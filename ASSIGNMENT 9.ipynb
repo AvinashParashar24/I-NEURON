{
 "cells": [
  {
   "cell_type": "markdown",
   "id": "d4add6ec",
   "metadata": {},
   "source": [
    "# ASSIGNMENT 9"
   ]
  },
  {
   "cell_type": "code",
   "execution_count": null,
   "id": "4a5cb0af",
   "metadata": {},
   "outputs": [],
   "source": [
    "# Q1. What is a lambda function in Python, and how does it differ from a regular function?\n",
    "# ANSWER \n",
    "'''A lambda function is an anonymous function (i.e., defined without a name) that can take any number of arguments but, unlike normal functions, evaluates and returns only one expression.\n",
    "These functions do not have parenthesis like the def defined functions but instead, take parameters after the lambda keyword'''\n",
    "\n",
    "'''User defined functions generally have a name but lambda does not have a name and lambda function are initiated with lambda keyword'''\n"
   ]
  },
  {
   "cell_type": "code",
   "execution_count": 8,
   "id": "a1d82704",
   "metadata": {},
   "outputs": [
    {
     "data": {
      "text/plain": [
       "12"
      ]
     },
     "execution_count": 8,
     "metadata": {},
     "output_type": "execute_result"
    }
   ],
   "source": [
    "# Q2. Can a lambda function in Python have multiple arguments? If yes, how can you define and use them?\n",
    "# \n",
    "# ANSWER --->  lambda function can take any number of arguments, but can only have one expression.\n",
    "\n",
    "# 1.First we will define the function with a \"lambda\" Key word \n",
    "# 2. Now we will create a variable as an argument which will be used later for operations. \n",
    "# 3. Now we will write whatever expression or mathematical operation we want to perform on variable which is created\n",
    "# 4. In order to use the lambda function, we will call the variable in which lambda was stored and provide arguments for calculations. \n",
    "\n",
    "# In below example, lambda is taking 3 argument and returing one value. \n",
    "ADD = lambda a,b,c: a+b+c\n",
    "\n",
    "ADD(2,4,6)"
   ]
  },
  {
   "cell_type": "code",
   "execution_count": 6,
   "id": "6460beec",
   "metadata": {},
   "outputs": [
    {
     "data": {
      "text/plain": [
       "25"
      ]
     },
     "execution_count": 6,
     "metadata": {},
     "output_type": "execute_result"
    }
   ],
   "source": [
    "# Q3. How are lambda functions typically used in Python? Provide an example use case.\n",
    "\n",
    "# ANSWER:- Lambda functions are used with a specific set of rules which is mentioned in Q2 Answer & below as well. \n",
    "'''First we initialise the lambda function with lambda key then we create a variables or argument on which calculation is performed. In the last step, we provide operations has to be performed on arguments.\n",
    "The lambda fucntion is stored in a variable and later we call the lambda using its variable name along with inputs which needs to be calculated.'''\n",
    "\n",
    "# For example; \n",
    "SQRT = lambda A: A**2 # HERE WE ARE DEFINING OUR LAMBDA USING lambda KEY, ARGUMENT AND SQUARE EXPRESSION\n",
    "\n",
    "SQRT(5) # HERE WE ARE CALLING LAMBDA TO PERFORM SQUARE OF 5"
   ]
  },
  {
   "cell_type": "code",
   "execution_count": 9,
   "id": "46fbf229",
   "metadata": {},
   "outputs": [],
   "source": [
    "# Q4. What are the advantages and limitations of lambda functions compared to regular functions in Python?\n",
    "\n",
    "# ADVANTAGES: \n",
    "# 1.The execution time is faster than regular functions. \n",
    "# 2. This require max to max 2 or 3 line of codes.\n",
    "# 3. The readability of code is comaritively easrier as compare to other def functions. \n",
    "# 4. Being anonymous, lambda functions can be easily passed without being assigned to a variable.\n",
    "\n",
    "# DISADVANTAGES:\n",
    "# It cannot be used for higher or complex problem solving or calculations. \n",
    "# Lambda functions can have only one expression.\n",
    "# Lambda functions cannot have a docstring.\n",
    "\n",
    "\n"
   ]
  },
  {
   "cell_type": "code",
   "execution_count": 37,
   "id": "b475fbde",
   "metadata": {},
   "outputs": [
    {
     "name": "stdout",
     "output_type": "stream",
     "text": [
      "Value of X is 5 and coming from outside the lambda scope.\n",
      "Value of Y is 6 coming from the inside of lambda scope\n",
      "\n",
      "VALUE OF M IS FROM OUTSIDE AND N IS DEFINED INSIDE THE LAMBDA. 50\n"
     ]
    }
   ],
   "source": [
    "# Q5. Are lambda functions in Python able to access variables defined outside of their own scope? Explain with an example.\n",
    "\n",
    "# ANSWER -->Lambda functions have their own local namespace and cannot access variables other than those in their parameter list and those in the global namespace.\n",
    "\n",
    "\n",
    "X = 5 # CREATED OUTSIDE THE LAMBDA \n",
    "\n",
    "WRITE = lambda Y: print('Value of X is {} and coming from outside the lambda scope.\\nValue of Y is {} coming from the inside of lambda scope'.format(X,Y))\n",
    "\n",
    "WRITE(6)\n",
    "\n",
    "\n",
    "# ANOTHER EXAMPLE;\n",
    "M = 10\n",
    "\n",
    "MULTI = lambda N: print('\\nVALUE OF M IS FROM OUTSIDE AND N IS DEFINED INSIDE THE LAMBDA.', M*N)\n",
    "\n",
    "MULTI(5)"
   ]
  },
  {
   "cell_type": "code",
   "execution_count": 45,
   "id": "48d5c398",
   "metadata": {},
   "outputs": [
    {
     "name": "stdout",
     "output_type": "stream",
     "text": [
      "Enter the no -->10\n"
     ]
    },
    {
     "data": {
      "text/plain": [
       "100"
      ]
     },
     "execution_count": 45,
     "metadata": {},
     "output_type": "execute_result"
    }
   ],
   "source": [
    "# Q6. Write a lambda function to calculate the square of a given number.\n",
    "\n",
    "SQRT = lambda:  int(input('Enter the no -->'))**2\n",
    "\n",
    "SQRT()"
   ]
  },
  {
   "cell_type": "code",
   "execution_count": 66,
   "id": "4c19b933",
   "metadata": {},
   "outputs": [
    {
     "data": {
      "text/plain": [
       "10"
      ]
     },
     "execution_count": 66,
     "metadata": {},
     "output_type": "execute_result"
    }
   ],
   "source": [
    "# Q7. Create a lambda function to find the maximum value in a list of integers.\n",
    "\n",
    "MAX = lambda A: max(A) # CREATING A LAMBDA \n",
    "\n",
    "LIST = [4,3,6,3,5,7,9,10] # CREATNG A LIST\n",
    "MAX(LIST) # CALLING LAMBDA ON LIST"
   ]
  },
  {
   "cell_type": "code",
   "execution_count": 160,
   "id": "9516fcc2",
   "metadata": {},
   "outputs": [
    {
     "name": "stdout",
     "output_type": "stream",
     "text": [
      "[1, 3, 5, 7, 9]\n"
     ]
    }
   ],
   "source": [
    "# Q8. Implement a lambda function to filter out all the even numbers from a list of integers.\n",
    "\n",
    "\n",
    "numbers = [1, 2, 3, 4, 5, 6, 7, 8, 9, 10]\n",
    "\n",
    "filtered_numbers = list(filter(lambda x: x % 2 != 0, numbers))\n",
    "print(filtered_numbers)"
   ]
  },
  {
   "cell_type": "code",
   "execution_count": 163,
   "id": "008bb1e2",
   "metadata": {},
   "outputs": [
    {
     "name": "stdout",
     "output_type": "stream",
     "text": [
      "['hi', 'hello', 'how are you', 'hope you are doing good']\n"
     ]
    }
   ],
   "source": [
    "# Q9. Write a lambda function to sort a list of strings in ascending order based on the length of each string.\n",
    "\n",
    "LIST = ['hello', 'hi', 'how are you', 'hope you are doing good']\n",
    "\n",
    "LIST.sort(key = lambda x:len(x))\n",
    "\n",
    "print(LIST)"
   ]
  },
  {
   "cell_type": "code",
   "execution_count": 176,
   "id": "a7704161",
   "metadata": {},
   "outputs": [],
   "source": [
    "# 10. Create a lambda function that takes two lists as input and returns a new list containing the common elements between the two lists.\n",
    "\n",
    "LIST_1 = [1,2,3,4,5,6]\n",
    "LIST_2 = [2,4,5,7,8,9, 15]\n",
    "\n",
    "\n",
    "LIST_1 = [1,2,3,4,5,6]\n",
    "LIST_2 = [2,4,5,7,8,9, 15]\n",
    "\n",
    "\n",
    "NEW = list(filter(lambda x: x in LIST_1, LIST_2)) "
   ]
  },
  {
   "cell_type": "code",
   "execution_count": 187,
   "id": "279d5cde",
   "metadata": {},
   "outputs": [
    {
     "data": {
      "text/plain": [
       "120"
      ]
     },
     "execution_count": 187,
     "metadata": {},
     "output_type": "execute_result"
    }
   ],
   "source": [
    "#Q11. Write a recursive function to calculate the factorial of a given positive integer.\n",
    "\n",
    "\n",
    "def fact(n):\n",
    "    if n == 1 or n==0:\n",
    "        return 1\n",
    "    else:\n",
    "        return n * fact(n-1)\n",
    "\n",
    "    \n",
    "fact(5)"
   ]
  },
  {
   "cell_type": "code",
   "execution_count": 190,
   "id": "b364f0e7",
   "metadata": {},
   "outputs": [
    {
     "data": {
      "text/plain": [
       "55"
      ]
     },
     "execution_count": 190,
     "metadata": {},
     "output_type": "execute_result"
    }
   ],
   "source": [
    "# Q12. Implement a recursive function to compute the nth Fibonacci number.\n",
    "\n",
    "def fab(n):\n",
    "    if n ==1:\n",
    "        return 1\n",
    "    else:\n",
    "        return n + fab(n-1)\n",
    "    \n",
    "fab(10)"
   ]
  },
  {
   "cell_type": "code",
   "execution_count": 363,
   "id": "af611148",
   "metadata": {},
   "outputs": [
    {
     "data": {
      "text/plain": [
       "15"
      ]
     },
     "execution_count": 363,
     "metadata": {},
     "output_type": "execute_result"
    }
   ],
   "source": [
    "# Q13. Create a recursive function to find the sum of all the elements in a given list.\n",
    "\n",
    "LIST = [1,2,3,4,5]\n",
    "def func(LIST):\n",
    "    \n",
    "    if len(LIST)==1:\n",
    "        return LIST[0]\n",
    "    else: \n",
    "        return LIST[0]+func(LIST[1:])\n",
    "\n",
    "\n",
    "func(LIST)"
   ]
  },
  {
   "cell_type": "code",
   "execution_count": 424,
   "id": "389e1e94",
   "metadata": {},
   "outputs": [
    {
     "name": "stdout",
     "output_type": "stream",
     "text": [
      "Enter the string :1,2,3,4,5,5,4,3,2,1\n",
      "The string is a palindrome\n"
     ]
    }
   ],
   "source": [
    "# Q14. Write a recursive function to determine whether a given string is a palindrome.\n",
    "\n",
    "# ANSWER \n",
    "\n",
    "\n",
    "def PLAINDROME(my_str):\n",
    "    if len(my_str) < 1:\n",
    "        return True\n",
    "    else:\n",
    "        if my_str[0] == my_str[-1]:\n",
    "            return check_palindrome(my_str[1:-1])\n",
    "        else:\n",
    "            return False\n",
    "my_string = str(input(\"Enter the string :\"))\n",
    "\n",
    "if(PLAINDROME(my_string)==True):\n",
    "    print(\"The string is a palindrome\")\n",
    "else:\n",
    "    print(\"The string isn't a palindrome\")"
   ]
  },
  {
   "cell_type": "code",
   "execution_count": 432,
   "id": "685f09d8",
   "metadata": {},
   "outputs": [
    {
     "name": "stdout",
     "output_type": "stream",
     "text": [
      "Enter first number:77\n",
      "Enter second number:22\n",
      "11\n"
     ]
    }
   ],
   "source": [
    "#Q15. Implement a recursive function to find the greatest common divisor (GCD) of two positive integers.\n",
    "\n",
    "\n",
    "def gcd(a,b):\n",
    "    if(b==0):\n",
    "        return a\n",
    "    else:\n",
    "        return gcd(b,a%b)\n",
    "a=int(input(\"Enter first number:\"))\n",
    "b=int(input(\"Enter second number:\"))\n",
    "GCD=gcd(a,b)\n",
    "print(GCD)"
   ]
  },
  {
   "cell_type": "code",
   "execution_count": null,
   "id": "17696dc5",
   "metadata": {},
   "outputs": [],
   "source": []
  }
 ],
 "metadata": {
  "kernelspec": {
   "display_name": "Python 3 (ipykernel)",
   "language": "python",
   "name": "python3"
  },
  "language_info": {
   "codemirror_mode": {
    "name": "ipython",
    "version": 3
   },
   "file_extension": ".py",
   "mimetype": "text/x-python",
   "name": "python",
   "nbconvert_exporter": "python",
   "pygments_lexer": "ipython3",
   "version": "3.7.11"
  }
 },
 "nbformat": 4,
 "nbformat_minor": 5
}
