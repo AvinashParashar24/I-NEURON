{
 "cells": [
  {
   "cell_type": "markdown",
   "id": "ab859279",
   "metadata": {},
   "source": [
    "# ASSIGNMENT 11"
   ]
  },
  {
   "cell_type": "code",
   "execution_count": null,
   "id": "c1c09ce9",
   "metadata": {},
   "outputs": [],
   "source": [
    "# Q1. What is the role of the 'else' block in a try-except statement? Provide an example scenario where it would be useful.\n",
    "\n",
    "# ANSWER--> The else block lets you execute code when there is no error. "
   ]
  },
  {
   "cell_type": "code",
   "execution_count": 1,
   "id": "cd973b87",
   "metadata": {},
   "outputs": [
    {
     "name": "stdout",
     "output_type": "stream",
     "text": [
      "File not found.\n"
     ]
    }
   ],
   "source": [
    "# Q2. Can a try-except block be nested inside another try-except block? Explain with an example.\n",
    "\n",
    "# ANSWER--> Yes, We can write a try nested block. Below is the example for the same. \n",
    "\n",
    "\n",
    "\n",
    "try:\n",
    "    file = open(\"data.txt\", \"r\")\n",
    "\n",
    "    try:\n",
    "        content = file.read()\n",
    "        number = int(content)\n",
    "        result = 10 / number\n",
    "\n",
    "    except ZeroDivisionError:\n",
    "        print(\"Cannot divide by zero.\")\n",
    "\n",
    "    except ValueError:\n",
    "        print(\"Invalid data in the file.\")\n",
    "\n",
    "    finally:\n",
    "        file.close()\n",
    "\n",
    "except FileNotFoundError:\n",
    "    print(\"File not found.\")\n",
    "except Exception as e:\n",
    "    print(\"An error occurred:\", e)"
   ]
  },
  {
   "cell_type": "code",
   "execution_count": 19,
   "id": "c7dca61b",
   "metadata": {},
   "outputs": [
    {
     "name": "stdout",
     "output_type": "stream",
     "text": [
      "Please enter your age 18\n",
      "Yes you can drive\n"
     ]
    }
   ],
   "source": [
    "# Q3. How can you create a custom exception class in Python? Provide an example that demonstrates its usage.\n",
    "\n",
    "# ANSWER--> We can create our own exception using 'raise' keyword. \n",
    "\n",
    "\n",
    "class Check_Age(Exception):\n",
    "    pass\n",
    "\n",
    "\n",
    "try:\n",
    "    Age = int(input('Please enter your age '))\n",
    "    if Age <18:\n",
    "        \n",
    "        raise Check_Age\n",
    "    else: \n",
    "        print('Yes you can drive')\n",
    "        \n",
    "    \n",
    "except Check_Age: \n",
    "    print('You cannot drive before 18')"
   ]
  },
  {
   "cell_type": "code",
   "execution_count": null,
   "id": "5d6e9edd",
   "metadata": {},
   "outputs": [],
   "source": [
    "# Q4. What are some common exceptions that are built-in to Python?\n",
    "\n",
    "#ANSWER \n",
    "\n",
    "# Exception\tDescription\n",
    "#ArithmeticError--->Raised when an error occurs in numeric calculations\n",
    "#AssertionError --->Raised when an assert statement fails\n",
    "#AttributeError --->Raised when attribute reference or assignment fails\n",
    "#Exception --->Base class for all exceptions\n",
    "#EOFError--->Raised when the input() method hits an \"end of file\" condition (EOF)\n",
    "#FloatingPointError--->Raised when a floating point calculation fails\n",
    "#IndentationError --->Raised when indentation is not correct\n",
    "#IndexError --->Raised when an index of a sequence does not exist\n",
    "#KeyError --->Raised when a key does not exist in a dictionary\n",
    "#MemoryError --->Raised when a program runs out of memory\n",
    "#NameError --->Raised when a variable does not exist\n",
    "#OverflowError  --->Raised when the result of a numeric calculation is too large\n",
    "#RuntimeError --->Raised when an error occurs that do not belong to any specific exceptions\n"
   ]
  },
  {
   "cell_type": "code",
   "execution_count": null,
   "id": "30935c4b",
   "metadata": {},
   "outputs": [],
   "source": [
    "# Q5. What is logging in Python, and why is it important in software development?\n",
    "\n",
    "# ANSWER \n",
    "'''Logging is a way to store information about your script and track events that occur. When writing any complex script in Python, \n",
    "logging is essential for debugging software as you develop it. Without logging, finding the source of a problem in your code may be extremely time consuming.'''"
   ]
  },
  {
   "cell_type": "code",
   "execution_count": null,
   "id": "a698ed6f",
   "metadata": {},
   "outputs": [],
   "source": [
    "# Q6. Explain the purpose of log levels in Python logging and provide examples of when each log level would be appropriate.\n",
    "\n",
    "# ANSWER \n",
    "'''When you set a logging level in Python using the standard module, you're telling the library you want to handle all events from that level up.\n",
    "Setting the log level to INFO will include INFO, WARNING, ERROR, and CRITICAL messages.'''\n",
    "\n",
    "#Python has six log levels with each one assigned a specific integer indicating the severity of the log:\n",
    "# NOTSET=0 --> This is the initial default setting of a log when it is created. \n",
    "# DEBUG=10 --> This level gives detailed information, useful only when a problem is being diagnosed.\n",
    "# INFO=20 --> This is used to confirm that everything is working as it should.\n",
    "# WARN=30--> This level indicates that something unexpected has happened or some problem is about to happen in the near future.\n",
    "# ERROR=40 --> As it implies, an error has occurred. The software was unable to perform some function.\n",
    "# CRITICAL=50--> A serious error has occurred. The program itself may shut down or not be able to continue running properly."
   ]
  },
  {
   "cell_type": "code",
   "execution_count": 20,
   "id": "4888b8bd",
   "metadata": {},
   "outputs": [
    {
     "name": "stderr",
     "output_type": "stream",
     "text": [
      "2023-08-10 14:01:25,924 - my_logger - DEBUG - This is a debug message.\n",
      "2023-08-10 14:01:25,926 - my_logger - INFO - This is an info message.\n",
      "2023-08-10 14:01:25,926 - my_logger - WARNING - This is a warning message.\n",
      "2023-08-10 14:01:25,927 - my_logger - ERROR - This is an error message.\n",
      "2023-08-10 14:01:25,929 - my_logger - CRITICAL - This is a critical message.\n"
     ]
    }
   ],
   "source": [
    "# Q7. What are log formatters in Python logging, and how can you customise the log message format using formatters?\n",
    "\n",
    "# ANSWER \n",
    "'''A formatter is created and added to the handler to transform log messages into placeholder data. In this formatter, the time of the log request, the logging level, the logger's name,\n",
    "the module name, and the log message will all print.'''\n",
    "\n",
    "# BELOW IS A EXAMPLE FOR CUSTOMIZATION\n",
    "\n",
    "import logging\n",
    "\n",
    "# Create a logger\n",
    "logger = logging.getLogger('my_logger')\n",
    "logger.setLevel(logging.DEBUG)\n",
    "\n",
    "# Create a handler and set the log level\n",
    "handler = logging.StreamHandler()\n",
    "handler.setLevel(logging.DEBUG)\n",
    "\n",
    "# Create a formatter\n",
    "formatter = logging.Formatter('%(asctime)s - %(name)s - %(levelname)s - %(message)s')\n",
    "\n",
    "# Set the formatter for the handler\n",
    "handler.setFormatter(formatter)\n",
    "\n",
    "# Add the handler to the logger\n",
    "logger.addHandler(handler)\n",
    "\n",
    "# Log some messages\n",
    "logger.debug('This is a debug message.')\n",
    "logger.info('This is an info message.')\n",
    "logger.warning('This is a warning message.')\n",
    "logger.error('This is an error message.')\n",
    "logger.critical('This is a critical message.')"
   ]
  },
  {
   "cell_type": "code",
   "execution_count": null,
   "id": "4b954223",
   "metadata": {},
   "outputs": [],
   "source": [
    "# Q8. How can you set up logging to capture log messages from multiple modules or classes in a Python application?\n",
    "\n",
    "# ANSWER--> \n",
    "'''We have to set up a common logging configuration that all the modules and classes can use. we can do this by creating a logger hierarchy and specifying a \n",
    "common configuration for handlers, formatters, and log levels'''"
   ]
  },
  {
   "cell_type": "code",
   "execution_count": null,
   "id": "4dd46e6f",
   "metadata": {},
   "outputs": [],
   "source": [
    "# Q9. What is the difference between the logging and print statements in Python? When should you use logging over print statements in a real-world application?\n",
    "\n",
    "# ANSWER---> \n",
    "'''Logging record events and errors that occur during the execution of Python programs where as print displays the information to the console for the debugging purposes.'''\n",
    "'''Logging is mainly used in the production environment but print is used for debugging'''\n",
    "'''Logging provides different log levels such as Debug, Info, Error, Warning, and Critical and Print does not have any levels, it simply prints whatever is passed to it.'''\n",
    "\n",
    "'''Logging should be used in a production envoirnment where we need to get the realtime records of every action'''"
   ]
  },
  {
   "cell_type": "code",
   "execution_count": 21,
   "id": "cdf88ce8",
   "metadata": {},
   "outputs": [],
   "source": [
    "# Q10. Write a Python program that logs a message to a file named \"app.log\" with the following requirements:\n",
    "#● The log message should be \"Hello, World!\"\n",
    "#● The log level should be set to \"INFO.\"\n",
    "#● The log file should append new log entries without overwriting previous ones.\n",
    "\n",
    "\n",
    "import logging\n",
    "\n",
    "# Configure the logging\n",
    "logging.basicConfig(filename='app.log', level=logging.INFO, filemode='a', format='%(asctime)s - %(levelname)s - %(message)s')\n",
    "\n",
    "# Log the message\n",
    "logging.info(\"Hello, World!\")"
   ]
  },
  {
   "cell_type": "code",
   "execution_count": 22,
   "id": "ca62d134",
   "metadata": {},
   "outputs": [],
   "source": [
    "# Q11. \n",
    "'''Create a Python program that logs an error message to the console and a file named \"errors.log\" if an exception occurs during the program's execution.\n",
    "The error message should include the exception type and a timestamp.'''\n",
    "\n",
    "\n",
    "\n",
    "import logging\n",
    "import traceback\n",
    "import datetime\n",
    "\n",
    "# Configure logging to print to console and log errors to a file\n",
    "logging.basicConfig(level=logging.ERROR, format='%(asctime)s - %(levelname)s - %(message)s')\n",
    "file_handler = logging.FileHandler('errors.log')\n",
    "file_handler.setLevel(logging.ERROR)\n",
    "file_handler.setFormatter(logging.Formatter('%(asctime)s - %(levelname)s - %(message)s'))\n",
    "logging.getLogger().addHandler(file_handler)\n",
    "\n",
    "def main():\n",
    "    try:\n",
    "        # Simulate an exception\n",
    "        result = 1 / 0\n",
    "    except Exception as e:\n",
    "        # Log the exception\n",
    "        error_message = f\"Exception type: {type(e).__name__}, Message: {str(e)}\"\n",
    "        logging.error(error_message)\n",
    "        logging.error(traceback.format_exc())\n",
    "\n",
    "if __name__ == \"__main__\":\n",
    "    main()\n"
   ]
  },
  {
   "cell_type": "code",
   "execution_count": null,
   "id": "cf39fb1a",
   "metadata": {},
   "outputs": [],
   "source": []
  },
  {
   "cell_type": "code",
   "execution_count": null,
   "id": "0c3b64e6",
   "metadata": {},
   "outputs": [],
   "source": []
  },
  {
   "cell_type": "code",
   "execution_count": null,
   "id": "459ef44e",
   "metadata": {},
   "outputs": [],
   "source": []
  },
  {
   "cell_type": "code",
   "execution_count": null,
   "id": "fcee0643",
   "metadata": {},
   "outputs": [],
   "source": []
  },
  {
   "cell_type": "code",
   "execution_count": null,
   "id": "de5fe34f",
   "metadata": {},
   "outputs": [],
   "source": []
  },
  {
   "cell_type": "code",
   "execution_count": null,
   "id": "9b4e797b",
   "metadata": {},
   "outputs": [],
   "source": []
  },
  {
   "cell_type": "code",
   "execution_count": null,
   "id": "682e0769",
   "metadata": {},
   "outputs": [],
   "source": []
  },
  {
   "cell_type": "code",
   "execution_count": null,
   "id": "9f3f8f55",
   "metadata": {},
   "outputs": [],
   "source": []
  },
  {
   "cell_type": "code",
   "execution_count": null,
   "id": "45061267",
   "metadata": {},
   "outputs": [],
   "source": []
  },
  {
   "cell_type": "code",
   "execution_count": null,
   "id": "e59324b8",
   "metadata": {},
   "outputs": [],
   "source": []
  },
  {
   "cell_type": "code",
   "execution_count": null,
   "id": "581289ee",
   "metadata": {},
   "outputs": [],
   "source": []
  },
  {
   "cell_type": "code",
   "execution_count": null,
   "id": "21633be7",
   "metadata": {},
   "outputs": [],
   "source": []
  }
 ],
 "metadata": {
  "kernelspec": {
   "display_name": "Python 3 (ipykernel)",
   "language": "python",
   "name": "python3"
  },
  "language_info": {
   "codemirror_mode": {
    "name": "ipython",
    "version": 3
   },
   "file_extension": ".py",
   "mimetype": "text/x-python",
   "name": "python",
   "nbconvert_exporter": "python",
   "pygments_lexer": "ipython3",
   "version": "3.7.11"
  }
 },
 "nbformat": 4,
 "nbformat_minor": 5
}
