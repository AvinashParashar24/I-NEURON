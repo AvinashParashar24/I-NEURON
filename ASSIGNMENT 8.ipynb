{
 "cells": [
  {
   "cell_type": "markdown",
   "id": "f52f03f8",
   "metadata": {},
   "source": [
    "# ASSIGNMENT 8"
   ]
  },
  {
   "cell_type": "code",
   "execution_count": 15,
   "id": "694261ed",
   "metadata": {},
   "outputs": [
    {
     "name": "stdout",
     "output_type": "stream",
     "text": [
      "adding number using built-in function = 6\n",
      "adding number using user defined function 6\n"
     ]
    }
   ],
   "source": [
    "# Q1. In Python, what is the difference between a built-in function and a user-defined function? Provide an example of each.\n",
    "\n",
    "# ANSWER \n",
    "'''Built-in function are pre existing function and generally we cannot add or remove features from built-in function whereas user defined function are function which are build as per user requirement and \n",
    "we can edit functionality of user defined function as per the requirement. '''\n",
    "\n",
    "# EXAMPLE; \n",
    "# BUILT-IN FUNCTION \n",
    "print('adding number using built-in function =',sum([1,2,3]))\n",
    "\n",
    "# USER DEFINED FUNCTION \n",
    "def add(a,b,c):\n",
    "    return a+b+c\n",
    "\n",
    "print('adding number using user defined function', add(1,2,3))"
   ]
  },
  {
   "cell_type": "code",
   "execution_count": 17,
   "id": "d583d8d5",
   "metadata": {},
   "outputs": [
    {
     "data": {
      "text/plain": [
       "'Positional arguments are arguments that need to be included in the proper position or order & can also be passed to functions using an iterable object where as \\nkeyword argument is an argument passed to a function or method which is preceded by a keyword and an equals sign Keyword arguments are passed to functions after any required positional arguments But,\\nthe order of one keyword argument compared to another keyword argument does not matter'"
      ]
     },
     "execution_count": 17,
     "metadata": {},
     "output_type": "execute_result"
    }
   ],
   "source": [
    "# Q2. How can you pass arguments to a function in Python? Explain the difference between positional arguments and keyword arguments.\n",
    "# ANSWER Arguments are specified after the function name, inside the parentheses. we can add as many arguments as we want and arguments are seperated with comma (,).\n",
    "\n",
    "'''Positional arguments are arguments that need to be included in the proper position or order & can also be passed to functions using an iterable object where as \n",
    "keyword argument is an argument passed to a function or method which is preceded by a keyword and an equals sign .Keyword arguments are passed to functions after any required positional arguments But,\n",
    "the order of one keyword argument compared to another keyword argument does not matter'''"
   ]
  },
  {
   "cell_type": "code",
   "execution_count": null,
   "id": "269577cd",
   "metadata": {},
   "outputs": [],
   "source": [
    "# Q3. What is the purpose of the return statement in a function? Can a function have multiple return statements? Explain with an example.\n",
    "# ANSWER \n",
    "# Retrun statement return a value after function completes its operation & it ends the execution of function. \n",
    "# Yes, a function can have multiple return statements.\n",
    "\n",
    "def test(a,b):\n",
    "    if a>b:\n",
    "        return a+b\n",
    "    elif a<b:\n",
    "        return a-b\n",
    "    else:\n",
    "        return a*b"
   ]
  },
  {
   "cell_type": "code",
   "execution_count": 29,
   "id": "6275ee73",
   "metadata": {},
   "outputs": [
    {
     "data": {
      "text/plain": [
       "5"
      ]
     },
     "execution_count": 29,
     "metadata": {},
     "output_type": "execute_result"
    }
   ],
   "source": [
    "# Q4. What are lambda functions in Python? How are they different from regular functions? Provide an example where a lambda function can be useful.\n",
    "\n",
    "# ANSWER --> \n",
    "'''Lambda functions are similar to user-defined functions but without a name. Lambda functions are efficient whenever you want to create a function that will only contain simple \n",
    "expressions – that is, expressions that are usually a single line of a statement.'''\n",
    "\n",
    "'''User defined functions generally have a name but lambda does not have a name and lambda function are initiated with lambda key whereas user defined function starts with def key.'''\n",
    "\n",
    "'''Normal function can consists of any number of execution statements inside the function definition but lambda has limited operation can be performed.'''\n",
    "\n",
    "CAL = lambda a,b: a+b\n",
    "CAL(2,3)"
   ]
  },
  {
   "cell_type": "code",
   "execution_count": 36,
   "id": "e9dc9df0",
   "metadata": {},
   "outputs": [
    {
     "name": "stdout",
     "output_type": "stream",
     "text": [
      "(G) is a local scope inside the python function & we will get value which we have defined inside which is  5\n",
      "But if we call (G) outside the function then we will get the value which was assigned outside the function or globally which is  10\n"
     ]
    }
   ],
   "source": [
    "# Q5. How does the concept of \"scope\" apply to functions in Python? Explain the difference between local scope and global scope.\n",
    "\n",
    "# ANSWER-> In python, variables can only reach the area in which they are defined, which is called scope.\n",
    "\n",
    "#GLOBAL SCOPE-> When a variable is created outside a function and it is accisble to all the operation in python is callled as global scope. \n",
    "#LOCAL SCOPE-> When a variable is created inside a function and it will not be used by any operation outside the function then it is called as local scope.\n",
    "\n",
    "# EXAMPLE\n",
    "\n",
    "G = 10 # This is a global scope which can be used by any operation outside the function \n",
    "\n",
    "def test (G):\n",
    "    G = 5 # This is a local scope which can be used only inside the function\n",
    "    print(\"(G) is a local scope inside the python function & we will get value which we have defined inside which is \", G)\n",
    "test(G)\n",
    "\n",
    "print('But if we call (G) outside the function then we will get the value which was assigned outside the function or globally which is ',G)"
   ]
  },
  {
   "cell_type": "code",
   "execution_count": 45,
   "id": "139b31aa",
   "metadata": {},
   "outputs": [
    {
     "data": {
      "text/plain": [
       "[15, -5, 50]"
      ]
     },
     "execution_count": 45,
     "metadata": {},
     "output_type": "execute_result"
    }
   ],
   "source": [
    "# Q6. How can you use the \"return\" statement in a Python function to return multiple values?\n",
    "\n",
    "def ADDING(A,B):\n",
    "    \n",
    "    ANS_1 = A+B\n",
    "    ANS_2 = A-B\n",
    "    ANS_3 = A*B\n",
    "    \n",
    "    return[ANS_1, ANS_2, ANS_3]\n",
    "    \n",
    "\n",
    "ADDING(5,10)\n",
    "    "
   ]
  },
  {
   "cell_type": "code",
   "execution_count": 62,
   "id": "10171099",
   "metadata": {},
   "outputs": [
    {
     "name": "stdout",
     "output_type": "stream",
     "text": [
      "WITH PASS BY VALUE\n",
      "Value inside the fucntion 5\n",
      "Value outside the function 10 \n",
      "\n",
      "\n",
      "WITH PASS BY REFERENCE\n",
      "The value of list inside the fucntion [100, 2, 3, 4]\n",
      "The value of list outside the fucntion [100, 2, 3, 4]\n"
     ]
    }
   ],
   "source": [
    "# Q7. What is the difference between the \"pass by value\" and \"pass by reference\" concepts when it comes to function arguments in Python?\n",
    "\n",
    "# ANSWER -> In pass by value, the value of a variable remains different inside and outside the function whereas in pass by reference, the values remain same both inside and outside the function \n",
    "# EXAMPLE; \n",
    "\n",
    "\n",
    "\n",
    "def func(x):\n",
    "    x = 5\n",
    "    print('Value inside the fucntion', x)\n",
    "\n",
    "print('WITH PASS BY VALUE')\n",
    "x = 10\n",
    "func(x)\n",
    "print('Value outside the function', x, '\\n'*2)\n",
    "\n",
    "\n",
    "##########################################################################\n",
    "\n",
    "x = [1,2,3,4]\n",
    "\n",
    "def LIST(x):\n",
    "    x[0] = 100\n",
    "    print('The value of list inside the fucntion', x)\n",
    "\n",
    "print('WITH PASS BY REFERENCE')\n",
    "\n",
    "LIST(x)\n",
    "print('The value of list outside the fucntion', x)"
   ]
  },
  {
   "cell_type": "code",
   "execution_count": 117,
   "id": "934ffb70",
   "metadata": {},
   "outputs": [
    {
     "name": "stdout",
     "output_type": "stream",
     "text": [
      "WELCOME TO THE CALCULATOR, PLEASE FIND OPTIONS BELOW \n",
      " select A for Logarithmic function \n",
      " select B for Exponential function \n",
      " select C for Power function with base 2 \n",
      " select D for Square root\n",
      "C\n",
      "Please enter the number\n",
      "4\n"
     ]
    },
    {
     "data": {
      "text/plain": [
       "16"
      ]
     },
     "execution_count": 117,
     "metadata": {},
     "output_type": "execute_result"
    }
   ],
   "source": [
    "# Q8. Create a function that can intake integer or decimal value and do following operations:\n",
    "#a. Logarithmic function (log x)\n",
    "#b. Exponential function (exp(x))\n",
    "#c. Power function with base 2 (2x)\n",
    "#d. Square root\n",
    "\n",
    "import math\n",
    "# ANSWER \n",
    "def calculator():\n",
    "    print('WELCOME TO THE CALCULATOR, PLEASE FIND OPTIONS BELOW','\\n','select A for Logarithmic function', '\\n','select B for Exponential function','\\n', 'select C for Power function with base 2','\\n','select D for Square root' )\n",
    "    OP = input()\n",
    "    \n",
    "    print('Please enter the number')\n",
    "    x = int(input())\n",
    "    \n",
    "    if OP=='A':\n",
    "        return math.log(x)\n",
    "    elif OP=='B':\n",
    "        return math.exp(x)\n",
    "    elif OP=='C':\n",
    "        return x**2\n",
    "    else:\n",
    "        return math.sqrt(x)\n",
    "        \n",
    "calculator()"
   ]
  },
  {
   "cell_type": "code",
   "execution_count": 128,
   "id": "fb5c1e69",
   "metadata": {},
   "outputs": [
    {
     "name": "stdout",
     "output_type": "stream",
     "text": [
      "Please enter your full name\n",
      "Avinash Parashar\n",
      "Your first name is  Avinash\n",
      "Your last name is  Parashar\n"
     ]
    }
   ],
   "source": [
    "# Q9. Create a function that takes a full name as an argument and returns first name and last name.\n",
    "\n",
    "# ANSWER \n",
    "\n",
    "def splitter():\n",
    "    print('Please enter your full name')\n",
    "    Name = input()\n",
    "    a,b =  Name.split(' ')\n",
    "    print('Your first name is ',a)\n",
    "    print('Your last name is ',b)\n",
    "    \n",
    "splitter()"
   ]
  },
  {
   "cell_type": "code",
   "execution_count": null,
   "id": "891a8b7a",
   "metadata": {},
   "outputs": [],
   "source": []
  },
  {
   "cell_type": "code",
   "execution_count": null,
   "id": "a416ad37",
   "metadata": {},
   "outputs": [],
   "source": []
  },
  {
   "cell_type": "code",
   "execution_count": null,
   "id": "7b572cde",
   "metadata": {},
   "outputs": [],
   "source": []
  },
  {
   "cell_type": "code",
   "execution_count": null,
   "id": "9db5e8f4",
   "metadata": {},
   "outputs": [],
   "source": []
  }
 ],
 "metadata": {
  "kernelspec": {
   "display_name": "Python 3 (ipykernel)",
   "language": "python",
   "name": "python3"
  },
  "language_info": {
   "codemirror_mode": {
    "name": "ipython",
    "version": 3
   },
   "file_extension": ".py",
   "mimetype": "text/x-python",
   "name": "python",
   "nbconvert_exporter": "python",
   "pygments_lexer": "ipython3",
   "version": "3.7.11"
  }
 },
 "nbformat": 4,
 "nbformat_minor": 5
}
