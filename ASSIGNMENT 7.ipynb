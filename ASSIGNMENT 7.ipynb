{
 "cells": [
  {
   "cell_type": "markdown",
   "id": "6155e7a7",
   "metadata": {},
   "source": [
    "# ASSIGNMENT 7"
   ]
  },
  {
   "cell_type": "code",
   "execution_count": 7,
   "id": "0cad71f9",
   "metadata": {},
   "outputs": [
    {
     "name": "stdout",
     "output_type": "stream",
     "text": [
      "Please enter first number 3\n",
      "Please enter second number 4\n",
      "First variable is 3 & second variable is 4\n",
      "SUBSTRACTION=  -1\n",
      "ADDITION=  7\n",
      "MULTIPLICATION=  12\n",
      "DIVISON=  0.75\n"
     ]
    }
   ],
   "source": [
    "# Q.1. Create two int type variables, apply addition, subtraction, division and multiplications and store the results in variables. Then print the data in the following format by calling the variables:\n",
    "# ANSWER \n",
    "INT_1 = int(input('Please enter first number '))\n",
    "INT_2 = int(input('Please enter second number '))\n",
    "\n",
    "SUB = INT_1 - INT_2\n",
    "ADD = INT_1 + INT_2\n",
    "MULTI = INT_1 * INT_2\n",
    "DIV = INT_1 / INT_2\n",
    "\n",
    "print(\"First variable is\", INT_1,\"& second variable is\", INT_2)\n",
    "print(\"SUBSTRACTION= \", SUB)\n",
    "print(\"ADDITION= \", ADD)\n",
    "print(\"MULTIPLICATION= \", MULTI)\n",
    "print(\"DIVISON= \", DIV)\n"
   ]
  },
  {
   "cell_type": "code",
   "execution_count": 45,
   "id": "95fd24ac",
   "metadata": {
    "scrolled": true
   },
   "outputs": [
    {
     "name": "stdout",
     "output_type": "stream",
     "text": [
      "/ is used for normal divison in python & this will give output in decimal if exist for example 100/3 =   33.333333333333336 \n",
      "\n",
      "// is used for floor divison in python & this will round down the decimal value for example  100//3 =  33 \n",
      "\n",
      "** is known as power operator. This will add the power to a number such as square or cube for example 3**3=  27 \n",
      "\n",
      "^ is a bitwise operator that is also known as Exclusive OR. It is a logical operator which outputs 1 when either of the operands is 1 for example 1^0  = 1\n"
     ]
    }
   ],
   "source": [
    "# Q.2. What is the difference between the following operators:\n",
    "# (i) ‘/’ & ‘//’\n",
    "# (ii) ‘**’ & ‘^’\n",
    "\n",
    "print('/ is used for normal divison in python & this will give output in decimal if exist for example 100/3 =  ', 100/3, '\\n') \n",
    "print('// is used for floor divison in python & this will round down the decimal value for example  100//3 = ',100//3, '\\n')\n",
    "print('** is known as power operator. This will add the power to a number such as square or cube for example 3**3= ', 3**3, '\\n')\n",
    "print('^ is a bitwise operator that is also known as Exclusive OR. It is a logical operator which outputs 1 when either of the operands is 1 for example 1^0  =', 1^0)"
   ]
  },
  {
   "cell_type": "code",
   "execution_count": 47,
   "id": "6e2949f9",
   "metadata": {},
   "outputs": [],
   "source": [
    "# Q.3. List the logical operators.\n",
    "# ANSWER \n",
    "LOGICAL_OPS = ['and', 'or', 'not']"
   ]
  },
  {
   "cell_type": "code",
   "execution_count": 84,
   "id": "24cf58d5",
   "metadata": {},
   "outputs": [
    {
     "name": "stdout",
     "output_type": "stream",
     "text": [
      "2\n",
      "40\n"
     ]
    }
   ],
   "source": [
    "# Q.4. Explain right shift operator and left shift operator with examples.\n",
    "# ANSWER \n",
    "\n",
    "# RIGHT SHIFT OPERATOR (The left operand's value is moved toward right by the number of bits specified by the right operand.)\n",
    "# LEFT SHIFT OPERATOR (The left operand's value is moved toward left by the number of bits specified by the right operand.)\n",
    "\n",
    "# EXAMPLE; \n",
    "print(10>>2)\n",
    "print(10<<2)\n"
   ]
  },
  {
   "cell_type": "code",
   "execution_count": 75,
   "id": "ea111775",
   "metadata": {},
   "outputs": [
    {
     "name": "stdout",
     "output_type": "stream",
     "text": [
      "[2, 4, 6, 8, 10, 12, 14, 16, 18, 20, 22, 24, 26, 28, 30]\n",
      "IS 10 is present in the LIST =  True\n",
      "Position of 10 in the list is =  4\n"
     ]
    }
   ],
   "source": [
    "# Q.5. Create a list containing int type data of length 15. Then write a code to check if 10 is present in the list or not.\n",
    "\n",
    "LIST = [i*2 for i in range(1,16)]\n",
    "print(LIST)\n",
    "\n",
    "print('IS 10 is present in the LIST = ',10 in LIST)\n",
    "print('Position of 10 in the list is = ',LIST.index(10))\n",
    "\n"
   ]
  }
 ],
 "metadata": {
  "kernelspec": {
   "display_name": "Python 3 (ipykernel)",
   "language": "python",
   "name": "python3"
  },
  "language_info": {
   "codemirror_mode": {
    "name": "ipython",
    "version": 3
   },
   "file_extension": ".py",
   "mimetype": "text/x-python",
   "name": "python",
   "nbconvert_exporter": "python",
   "pygments_lexer": "ipython3",
   "version": "3.7.11"
  }
 },
 "nbformat": 4,
 "nbformat_minor": 5
}
