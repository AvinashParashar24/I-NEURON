{
 "cells": [
  {
   "cell_type": "markdown",
   "id": "9c8033d7",
   "metadata": {},
   "source": [
    "# ASSIGNMENT 10"
   ]
  },
  {
   "cell_type": "code",
   "execution_count": null,
   "id": "ed59316d",
   "metadata": {},
   "outputs": [],
   "source": [
    "#Q1. What is the role of try and exception block?\n",
    "\n",
    "# ANSWER \n",
    "'''Try block will lets you test a block of code for errors and except block lets you handle the error. These blocks are used so that our code doesn't crash in case of any error'''"
   ]
  },
  {
   "cell_type": "code",
   "execution_count": 1,
   "id": "5ac76674",
   "metadata": {},
   "outputs": [
    {
     "name": "stdout",
     "output_type": "stream",
     "text": [
      "There is no X in your module\n"
     ]
    }
   ],
   "source": [
    "# Q2. What is the syntax for a basic try-except block?\n",
    "\n",
    "# ANSWER \n",
    "\n",
    "try: # We are checking a condition here \n",
    "    (print(X))\n",
    "except: # We are handeling an error here \n",
    "    print('There is no X in your module')"
   ]
  },
  {
   "cell_type": "code",
   "execution_count": 2,
   "id": "e5b90ac1",
   "metadata": {},
   "outputs": [
    {
     "ename": "TypeError",
     "evalue": "unsupported operand type(s) for +: 'int' and 'str'",
     "output_type": "error",
     "traceback": [
      "\u001b[0;31m---------------------------------------------------------------------------\u001b[0m",
      "\u001b[0;31mTypeError\u001b[0m                                 Traceback (most recent call last)",
      "\u001b[0;32m/tmp/ipykernel_74538/466326706.py\u001b[0m in \u001b[0;36m<module>\u001b[0;34m\u001b[0m\n\u001b[1;32m      4\u001b[0m \u001b[0;34m\u001b[0m\u001b[0m\n\u001b[1;32m      5\u001b[0m \u001b[0;32mtry\u001b[0m\u001b[0;34m:\u001b[0m\u001b[0;34m\u001b[0m\u001b[0;34m\u001b[0m\u001b[0m\n\u001b[0;32m----> 6\u001b[0;31m     \u001b[0;34m(\u001b[0m\u001b[0;36m4\u001b[0m\u001b[0;34m+\u001b[0m\u001b[0;34m'a'\u001b[0m\u001b[0;34m)\u001b[0m\u001b[0;34m\u001b[0m\u001b[0;34m\u001b[0m\u001b[0m\n\u001b[0m\u001b[1;32m      7\u001b[0m \u001b[0;34m\u001b[0m\u001b[0m\n\u001b[1;32m      8\u001b[0m \u001b[0;32mexcept\u001b[0m \u001b[0mZeroDivisionError\u001b[0m\u001b[0;34m:\u001b[0m\u001b[0;34m\u001b[0m\u001b[0;34m\u001b[0m\u001b[0m\n",
      "\u001b[0;31mTypeError\u001b[0m: unsupported operand type(s) for +: 'int' and 'str'"
     ]
    }
   ],
   "source": [
    "# 3. What happens if an exception occurs inside a try block and there is no matching except block?\n",
    "\n",
    "# ANSWER--> If try block catches an error and there is no matching except block then code will crash or terminate. Below is an example of such as case.\n",
    "\n",
    "try:\n",
    "    (4+'a')\n",
    "    \n",
    "except ZeroDivisionError:\n",
    "        print(\"Sorry ! You are dividing by zero \")\n",
    "        \n",
    "# In above condition, there error was due to a TypeError exception but we provided ZeroDivisionError exception hence our code crashed.\n"
   ]
  },
  {
   "cell_type": "code",
   "execution_count": 3,
   "id": "911e4efd",
   "metadata": {},
   "outputs": [
    {
     "data": {
      "text/plain": [
       "'A bare except code will just handle the exception and will give you a user defined exception message without tell you the exact exception type. \\nBut a specific expcetion type will let the user know what kind of error is getting generated so that user can debug the issue. The best coding practice is to use specific except code.'"
      ]
     },
     "execution_count": 3,
     "metadata": {},
     "output_type": "execute_result"
    }
   ],
   "source": [
    "# Q4. What is the difference between using a bare except block and specifying a specific exception type?\n",
    "\n",
    "'''A bare except code will just handle the exception and will give you a user defined exception message without tell you the exact exception type. \n",
    "But a specific expcetion type will let the user know what kind of error is getting generated so that user can debug the issue. The best coding practice is to use specific except code.'''\n",
    "\n"
   ]
  },
  {
   "cell_type": "code",
   "execution_count": 4,
   "id": "6ac0fe01",
   "metadata": {},
   "outputs": [
    {
     "name": "stdout",
     "output_type": "stream",
     "text": [
      "File not found.\n"
     ]
    }
   ],
   "source": [
    "#Q5. Can you have nested try-except blocks in Python? If yes, then give an example.\n",
    "\n",
    "# ANSWER -->  Yes, we can have nested try -except block.\n",
    "\n",
    "\n",
    "try:\n",
    "    file = open(\"data.txt\", \"r\")\n",
    "\n",
    "    try:\n",
    "        content = file.read()\n",
    "        number = int(content)\n",
    "        result = 10 / number\n",
    "\n",
    "    except ZeroDivisionError:\n",
    "        print(\"Cannot divide by zero.\")\n",
    "\n",
    "    except ValueError:\n",
    "        print(\"Invalid data in the file.\")\n",
    "\n",
    "    finally:\n",
    "        file.close()\n",
    "\n",
    "except FileNotFoundError:\n",
    "    print(\"File not found.\")\n",
    "except Exception as e:\n",
    "    print(\"An error occurred:\", e)"
   ]
  },
  {
   "cell_type": "code",
   "execution_count": 5,
   "id": "fc801b90",
   "metadata": {},
   "outputs": [],
   "source": [
    "#Q7. Write the reason due to which following errors are raised:\n",
    "\n",
    "#ANSWER-->\n",
    "\n",
    "#a. EOFError---> EOFError is short for \"End-of-Line Error.\" This error occurs when Python has reached the end of user input without receiving any input.\n",
    "#b. FloatingPointError---> This is an error that occurs when a floating-point calculation is attempted that is not supported by the available hardware or software.\n",
    "#c. IndexError---> This is an exception in python that occurs when we try to access an element from a list or tuple from an index that is not present in the list.\n",
    "#d. MemoryError---> A MemoryError indicates that the Python interpreter has exhausted its memory allocation for our Python program.\n",
    "#e. OverflowError---> An OverflowError exception is raised when an arithmetic operation exceeds the limits to be represented.\n",
    "#f. TabError---> Inconsistent use of tabs and spaces in indentation. This error occurs when we mix tabs and spaces in the same code block.\n",
    "#g. ValueError---> The Python ValueError is raised when the wrong value is assigned to an object. This can happen if the value is invalid for a given operation, or if the value does not exist. \n",
    "\n",
    "\n"
   ]
  },
  {
   "cell_type": "code",
   "execution_count": 6,
   "id": "4c584d00",
   "metadata": {},
   "outputs": [
    {
     "name": "stdout",
     "output_type": "stream",
     "text": [
      "plese enter first number 4\n",
      "plese enter first number 0\n",
      "Cannot divide by zero, Please try another number.\n"
     ]
    }
   ],
   "source": [
    "# Q8. Write code for the following given scenario and add try-exception block to it.\n",
    "\n",
    "#a. Program to divide two numbers\n",
    "\n",
    "def DIV(a,b):\n",
    "    \n",
    "    a = int(input('plese enter first number '))\n",
    "    b = int(input('plese enter first number '))\n",
    "    try:\n",
    "        (a/b)\n",
    "    except ZeroDivisionError:\n",
    "        print(\"Cannot divide by zero, Please try another number.\")\n",
    "    \n",
    "    else:\n",
    "        print('Your answer is ', a/b)\n",
    "    \n",
    "DIV(4,0)\n"
   ]
  },
  {
   "cell_type": "code",
   "execution_count": null,
   "id": "1df70a14",
   "metadata": {},
   "outputs": [],
   "source": [
    "#b. Program to convert a string to an integer\n",
    "\n",
    "def convert():\n",
    "    a = str(input('Please Enter a Value'))\n",
    "    \n",
    "    try:\n",
    "        (int(a))\n",
    "        \n",
    "    except ValueError:\n",
    "        print('Cannot do the conversion of a alphabet or symbol to integer type')\n",
    "    else:\n",
    "        print('The type of', a, 'is',  type(int(a))) \n",
    "\n",
    "convert()"
   ]
  },
  {
   "cell_type": "code",
   "execution_count": 7,
   "id": "f13962f2",
   "metadata": {},
   "outputs": [
    {
     "name": "stdout",
     "output_type": "stream",
     "text": [
      "Please enter the position of list 9\n",
      "The length of list is not up to 9 Please try a lower number\n"
     ]
    }
   ],
   "source": [
    "#c. Program to access an element in a list\n",
    "\n",
    "LIST = ['Jaipur', 'Delhi', 'Chennai', 'Goa', 'Kolkata', 'Patna']\n",
    "\n",
    "def find(a):\n",
    "    \n",
    "    loc = int(input('Please enter the position of list '))\n",
    "    \n",
    "    try: \n",
    "        a[loc]\n",
    "    except IndexError:\n",
    "        \n",
    "        print('The length of list is not up to', loc, 'Please try a lower number')\n",
    "    \n",
    "    else:\n",
    "        print('The city at position', loc, 'is', a[loc])\n",
    "    \n",
    "find(LIST)\n",
    "    \n",
    "    \n",
    "    "
   ]
  },
  {
   "cell_type": "code",
   "execution_count": 31,
   "id": "48fad851",
   "metadata": {},
   "outputs": [
    {
     "name": "stdout",
     "output_type": "stream",
     "text": [
      "5.0\n",
      "25.0\n",
      "15625.0\n",
      "5.960464477539062e+16\n",
      "7.52316384526264e+83\n",
      "The Values are overflowing\n"
     ]
    }
   ],
   "source": [
    "#d. Program to handle a specific exception\n",
    "\n",
    "\n",
    "# OVERFLOW ERROR \n",
    "j = 5.0\n",
    "\n",
    "try:\n",
    "    for i in range(1, 1000):\n",
    "        j = j**i\n",
    "        print(j)\n",
    "        \n",
    "except OverflowError:\n",
    "    print('The Values are overflowing')\n",
    "    \n",
    "\n"
   ]
  },
  {
   "cell_type": "code",
   "execution_count": 66,
   "id": "410d555c",
   "metadata": {},
   "outputs": [
    {
     "name": "stdout",
     "output_type": "stream",
     "text": [
      "An exception occurred: name 'a' is not defined\n"
     ]
    }
   ],
   "source": [
    "#e. Program to handle any exception\n",
    "\n",
    "\n",
    "try:\n",
    "    value = int(a)  # This will raise a ValueError\n",
    "except ValueError as ve:\n",
    "    print(f\"A ValueError occurred: {ve}\")\n",
    "except Exception as e:\n",
    "    print(f\"An exception occurred: {e}\")\n",
    "    \n",
    "    "
   ]
  },
  {
   "cell_type": "code",
   "execution_count": null,
   "id": "6cbe70f7",
   "metadata": {},
   "outputs": [],
   "source": []
  },
  {
   "cell_type": "code",
   "execution_count": null,
   "id": "639fa415",
   "metadata": {},
   "outputs": [],
   "source": []
  },
  {
   "cell_type": "code",
   "execution_count": null,
   "id": "44309372",
   "metadata": {},
   "outputs": [],
   "source": []
  },
  {
   "cell_type": "code",
   "execution_count": null,
   "id": "d805a8bc",
   "metadata": {},
   "outputs": [],
   "source": []
  },
  {
   "cell_type": "code",
   "execution_count": null,
   "id": "9a452d68",
   "metadata": {},
   "outputs": [],
   "source": []
  },
  {
   "cell_type": "code",
   "execution_count": null,
   "id": "c349ebdd",
   "metadata": {},
   "outputs": [],
   "source": []
  }
 ],
 "metadata": {
  "kernelspec": {
   "display_name": "Python 3 (ipykernel)",
   "language": "python",
   "name": "python3"
  },
  "language_info": {
   "codemirror_mode": {
    "name": "ipython",
    "version": 3
   },
   "file_extension": ".py",
   "mimetype": "text/x-python",
   "name": "python",
   "nbconvert_exporter": "python",
   "pygments_lexer": "ipython3",
   "version": "3.7.11"
  }
 },
 "nbformat": 4,
 "nbformat_minor": 5
}
