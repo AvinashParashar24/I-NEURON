{
 "cells": [
  {
   "cell_type": "markdown",
   "id": "b11854d2",
   "metadata": {},
   "source": [
    "# ASSIGNMENT 4"
   ]
  },
  {
   "cell_type": "code",
   "execution_count": 1,
   "id": "61b3ea21",
   "metadata": {},
   "outputs": [],
   "source": [
    "# Q1. What exactly is []?\n",
    "# ANSWER -- [] is an empty list which is used to later to append the values in it during an operation. "
   ]
  },
  {
   "cell_type": "code",
   "execution_count": 5,
   "id": "e2042c85",
   "metadata": {},
   "outputs": [
    {
     "name": "stdout",
     "output_type": "stream",
     "text": [
      "[2, 4, 6, 8, 10]\n",
      "[2, 4, 'hello', 8, 10]\n"
     ]
    }
   ],
   "source": [
    "# Q2. In a list of values stored in a variable called spam, how would you assign the value of hello; as the third value? (Assume [2, 4, 6, 8, 10] are in spam.)\n",
    "# ANSWER \n",
    "spam =  [2, 4, 6, 8, 10]\n",
    "print(spam)\n",
    "spam[2] = 'hello'\n",
    "print(spam)"
   ]
  },
  {
   "cell_type": "code",
   "execution_count": 6,
   "id": "42142e72",
   "metadata": {},
   "outputs": [],
   "source": [
    "\n",
    "# Let's pretend the spam includes the list ['a'b'c'd] for the next three queries.\n",
    "SPAM = ['a','b','c','d']"
   ]
  },
  {
   "cell_type": "code",
   "execution_count": 12,
   "id": "736b3aa1",
   "metadata": {},
   "outputs": [
    {
     "name": "stdout",
     "output_type": "stream",
     "text": [
      "The answer is a\n"
     ]
    }
   ],
   "source": [
    "#Q3. What is the value of spam[int(int(3 * 2) / 11)]?\n",
    "# ANSWER \n",
    "print('The answer is', SPAM[int(int(3 * 2) / 11)])"
   ]
  },
  {
   "cell_type": "code",
   "execution_count": 15,
   "id": "1d17cbe3",
   "metadata": {},
   "outputs": [
    {
     "name": "stdout",
     "output_type": "stream",
     "text": [
      "The answer is d\n"
     ]
    }
   ],
   "source": [
    "# Q4. What is the value of spam[-1]?\n",
    "# ANSWER \n",
    "print('The answer is', SPAM[-1])"
   ]
  },
  {
   "cell_type": "code",
   "execution_count": 16,
   "id": "701558f1",
   "metadata": {},
   "outputs": [
    {
     "name": "stdout",
     "output_type": "stream",
     "text": [
      "The answer is ['a', 'b']\n"
     ]
    }
   ],
   "source": [
    "# Q5. What is the value of spam[:2]?\n",
    "print('The answer is', SPAM[:2])"
   ]
  },
  {
   "cell_type": "code",
   "execution_count": null,
   "id": "19b191b5",
   "metadata": {},
   "outputs": [],
   "source": [
    "# Let's pretend bacon has the list [3.14, cat, 11,cat, True] for the next three questions."
   ]
  },
  {
   "cell_type": "code",
   "execution_count": 30,
   "id": "f31b0b5d",
   "metadata": {},
   "outputs": [
    {
     "name": "stdout",
     "output_type": "stream",
     "text": [
      "The answer is  1\n"
     ]
    }
   ],
   "source": [
    "# Q6. What is the value of bacon.index('cat')?\n",
    "bacon = [3.14, 'cat', 11,'cat', True]\n",
    "print('The answer is ',bacon.index('cat'))"
   ]
  },
  {
   "cell_type": "code",
   "execution_count": 32,
   "id": "5eb41506",
   "metadata": {},
   "outputs": [
    {
     "name": "stdout",
     "output_type": "stream",
     "text": [
      "Before append --> [3.14, 'cat', 11, 'cat', True]\n",
      "After append--->  [3.14, 'cat', 11, 'cat', True, 99]\n"
     ]
    }
   ],
   "source": [
    "# Q7. How does bacon.append(99) change the look of the list value in bacon?\n",
    "# ANSWER \n",
    "\n",
    "print('Before append -->', bacon)\n",
    "bacon.append(99)\n",
    "print('After append---> ',bacon)"
   ]
  },
  {
   "cell_type": "code",
   "execution_count": 34,
   "id": "01fddb93",
   "metadata": {},
   "outputs": [
    {
     "name": "stdout",
     "output_type": "stream",
     "text": [
      "Before remove --> [3.14, 'cat', 11, 'cat', True]\n",
      "After remove--->  [3.14, 11, 'cat', True]\n"
     ]
    }
   ],
   "source": [
    "# Q8. How does bacon.remove('cat') change the look of the list in bacon?\n",
    "# ANSWER \n",
    "bacon = [3.14, 'cat', 11,'cat', True]\n",
    "print('Before remove -->', bacon)\n",
    "bacon.remove('cat')\n",
    "print('After remove---> ',bacon)"
   ]
  },
  {
   "cell_type": "code",
   "execution_count": 42,
   "id": "fc07fabc",
   "metadata": {},
   "outputs": [
    {
     "name": "stdout",
     "output_type": "stream",
     "text": [
      "[1, 2, 3, 'a', 'b', 'c']\n",
      "['Hello', 'Hey', 'Hello', 'Hey', 'Hello', 'Hey', 'Hello', 'Hey', 'Hello', 'Hey']\n"
     ]
    }
   ],
   "source": [
    "# Q9. What are the list concatenation and list replication operators?\n",
    "# ANSWER \n",
    "# Concat(+) operator will add another list on top of existing list \n",
    "a = [1,2,3]\n",
    "b = ['a','b','c']\n",
    "LIST = a+b\n",
    "print(LIST)\n",
    "\n",
    "# Replication (*) Operator will repeat the certain list or string to the number of times it is specified for example;\n",
    "\n",
    "a = ['Hello', 'Hey']\n",
    "a = a*5\n",
    "print(a)"
   ]
  },
  {
   "cell_type": "code",
   "execution_count": 53,
   "id": "bb9a9dce",
   "metadata": {},
   "outputs": [
    {
     "name": "stdout",
     "output_type": "stream",
     "text": [
      "[1, 2, 3, ['a', 'b', 'c']]\n",
      "[1, 2, 3, 'f']\n"
     ]
    }
   ],
   "source": [
    "# Q10. What is difference between the list methods append() and insert()?\n",
    "# ANSWER \n",
    "\n",
    "# Append will add an element or list in exsiting list as an element or nested list. for Example; \n",
    "a = [1,2,3]\n",
    "b = ['a','b','c']\n",
    "a.append(b)\n",
    "print(a)\n",
    "\n",
    "########################\n",
    "\n",
    "# Insert will add an element in a existing list at a sepcified location \n",
    "a = [1,2,3]\n",
    "a.insert(3,'f')\n",
    "print(a)"
   ]
  },
  {
   "cell_type": "code",
   "execution_count": 58,
   "id": "2336aea8",
   "metadata": {},
   "outputs": [
    {
     "name": "stdout",
     "output_type": "stream",
     "text": [
      "[1, 3]\n",
      "[2, 3]\n",
      "[1, 2]\n"
     ]
    }
   ],
   "source": [
    "# Q11. What are the two methods for removing items from a list?\n",
    "# ANSWER \n",
    "#1-> pop\n",
    "#2-> remove \n",
    "#3-> del\n",
    "\n",
    "# FOR EXAMPLE \n",
    "a = [1,2,3]\n",
    "a.pop(1) # pop removes an element at a specific location\n",
    "print(a)\n",
    "\n",
    "a = [1,2,3]\n",
    "a.remove(1) # remove, removes a specified element with matching input\n",
    "print(a)\n",
    "\n",
    "a = [1,2,3] # del removes a specified element with matching input\n",
    "del a[2]\n",
    "print(a)\n"
   ]
  },
  {
   "cell_type": "code",
   "execution_count": null,
   "id": "e444caf5",
   "metadata": {},
   "outputs": [],
   "source": [
    "# Q12. Describe how list values and string values are identical.\n",
    "#Answer: \n",
    "#Below are some reasons how list values and string values are identical:\n",
    "\n",
    "#Both lists and strings can be passed to len() function\n",
    "#Have indexes and slices, be used in for loops,\n",
    "#Can be concatenated or replicated\n",
    "#Can be used with the in and not in operators."
   ]
  },
  {
   "cell_type": "code",
   "execution_count": 57,
   "id": "76e1d6b1",
   "metadata": {},
   "outputs": [],
   "source": [
    "# Q13. What's the difference between tuples and lists?\n",
    "\n",
    "# ANSWER \n",
    "# Tuples are immutable but list are mutable\n",
    "# Tuples are created withing () but list are created withing []"
   ]
  },
  {
   "cell_type": "code",
   "execution_count": 63,
   "id": "05a82be1",
   "metadata": {},
   "outputs": [
    {
     "name": "stdout",
     "output_type": "stream",
     "text": [
      "42\n"
     ]
    }
   ],
   "source": [
    "# Q14. How do you type a tuple value that only contains the integer 42?\n",
    "\n",
    "# ANSWER \n",
    "TUP = (42)\n",
    "print(TUP)"
   ]
  },
  {
   "cell_type": "code",
   "execution_count": 72,
   "id": "bbdbbb3a",
   "metadata": {},
   "outputs": [
    {
     "name": "stdout",
     "output_type": "stream",
     "text": [
      "(1, 2, 3)\n",
      "[1, 2, 3]\n"
     ]
    }
   ],
   "source": [
    "# Q15. How do you get a list value's tuple form? How do you get a tuple value's list form?\n",
    "\n",
    "# ANSWER \n",
    "a = [1,2,3]\n",
    "a = tuple(a)\n",
    "print(a)\n",
    "\n",
    "b = (1,2,3)\n",
    "b = list(b)\n",
    "print(b)"
   ]
  },
  {
   "cell_type": "code",
   "execution_count": 73,
   "id": "53934566",
   "metadata": {},
   "outputs": [],
   "source": [
    "# Q16. Variables that 'contain' list values are not necessarily lists themselves. Instead, what do they contain?\n",
    "# ANSWER --> They contain references to list values."
   ]
  },
  {
   "cell_type": "code",
   "execution_count": 74,
   "id": "08dec5d8",
   "metadata": {},
   "outputs": [],
   "source": [
    "# Q17. How do you distinguish between copy.copy() and copy.deepcopy()?\n",
    "# ANSWER \n",
    "# The copy() returns a shallow copy of the list, and deepcopy() returns a deep copy of the list.\n",
    "# A shallow copy constructs a new compound object and then (to the extent possible) inserts references into it to the objects found in the original.\n",
    "# A deep copy constructs a new compound object and then, recursively, inserts copies into it of the objects found in the original."
   ]
  },
  {
   "cell_type": "code",
   "execution_count": null,
   "id": "1e63f369",
   "metadata": {},
   "outputs": [],
   "source": []
  },
  {
   "cell_type": "code",
   "execution_count": null,
   "id": "4649a722",
   "metadata": {},
   "outputs": [],
   "source": []
  }
 ],
 "metadata": {
  "kernelspec": {
   "display_name": "Python 3 (ipykernel)",
   "language": "python",
   "name": "python3"
  },
  "language_info": {
   "codemirror_mode": {
    "name": "ipython",
    "version": 3
   },
   "file_extension": ".py",
   "mimetype": "text/x-python",
   "name": "python",
   "nbconvert_exporter": "python",
   "pygments_lexer": "ipython3",
   "version": "3.7.11"
  }
 },
 "nbformat": 4,
 "nbformat_minor": 5
}
