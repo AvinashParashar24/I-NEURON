{
 "cells": [
  {
   "cell_type": "markdown",
   "id": "e06c4ac5",
   "metadata": {},
   "source": [
    "# ASSIGNMENT 3 "
   ]
  },
  {
   "cell_type": "code",
   "execution_count": null,
   "id": "2d875958",
   "metadata": {},
   "outputs": [],
   "source": [
    "# Q1. Why are functions advantageous to have in your programs?\n",
    "\n",
    "#ANSWER \n",
    "#Functions can be used to perform repetative task hence it saves time and coding.\n",
    "#Sometimes a particular function might not have certain functionlity hence we can create a function with our set of requirements. \n",
    "# Function makes the code shorter and easier \n"
   ]
  },
  {
   "cell_type": "code",
   "execution_count": null,
   "id": "56a388e0",
   "metadata": {},
   "outputs": [],
   "source": [
    "#Q2. When does the code in a function run: when it is specified or when it is called?\n",
    "#ANSWER A function runs when it is called "
   ]
  },
  {
   "cell_type": "code",
   "execution_count": null,
   "id": "c7153dde",
   "metadata": {},
   "outputs": [],
   "source": [
    "#Q3. What statement creates a function?\n",
    "#ANSWER-> Def function creates a function.\n"
   ]
  },
  {
   "cell_type": "code",
   "execution_count": null,
   "id": "d190266d",
   "metadata": {},
   "outputs": [],
   "source": [
    "#Q4. What is the difference between a function and a function call?\n",
    "#ANSWER \n",
    "# Fucntion is a program which is used to perform a specified task and can be used again and again whereas, function call is basically invoking or calling an existing function to perform the task."
   ]
  },
  {
   "cell_type": "code",
   "execution_count": null,
   "id": "1b62f943",
   "metadata": {},
   "outputs": [],
   "source": [
    "#Q5. How many global scopes are there in a Python program? How many local scopes?\n",
    "#ANSWER \n",
    "# Local scopes can only be accessed within the function or module in which they are defined but global variables are the one which can be used throughout the entire program.\n",
    "# Global scopes are declared outside the function where as locals are created inside the function \n",
    "\n",
    "# There is one global scope & local scopes can be created whenever function is designed\n"
   ]
  },
  {
   "cell_type": "code",
   "execution_count": null,
   "id": "4b96c3d6",
   "metadata": {},
   "outputs": [],
   "source": [
    "# Q6. What happens to variables in a local scope when the function call returns?\n",
    "# ANSWER \n",
    "# Function call returns means the function is executed and value is been returned, after that function call returns, the local variable will get destroyed or becomes undefined "
   ]
  },
  {
   "cell_type": "code",
   "execution_count": null,
   "id": "d874e3a9",
   "metadata": {},
   "outputs": [],
   "source": [
    "# Q7. What is the concept of a return value? Is it possible to have a return value in an expression?\n",
    "# ANSWER \n",
    "# A return value is a the output of a given task or script which is specified in a function. When the function is done with its execution, it will give an output which is called as return value.\n",
    "# Yes, the value of a particular expression can be there in reutrn value. "
   ]
  },
  {
   "cell_type": "code",
   "execution_count": null,
   "id": "9a3deefc",
   "metadata": {},
   "outputs": [],
   "source": [
    "# Q8. If a function does not have a return statement, what is the return value of a call to that function?\n",
    "# ANSWER \n",
    "# If we are not specifying any return condition in a function, then function wil get executed however, there will be no value in output. "
   ]
  },
  {
   "cell_type": "code",
   "execution_count": 1,
   "id": "5a62e922",
   "metadata": {},
   "outputs": [],
   "source": [
    "# Q9. How do you make a function variable refer to the global variable?\n",
    "# ANSWER \n",
    "# We can use global key to make a local variable as global variable in function. "
   ]
  },
  {
   "cell_type": "code",
   "execution_count": null,
   "id": "c8bf4bbd",
   "metadata": {},
   "outputs": [],
   "source": [
    "# Q10. What is the data type of None?\n",
    "# ANSWER \n",
    "# None is used to define a null value, or no value at all."
   ]
  },
  {
   "cell_type": "code",
   "execution_count": null,
   "id": "c0b1bb37",
   "metadata": {},
   "outputs": [],
   "source": [
    "# Q11. What does the sentence import areallyourpetsnamederic do?\n",
    "# ANSWER \n",
    "# It will call the areallyourpetsnamederic library/ module "
   ]
  },
  {
   "cell_type": "code",
   "execution_count": null,
   "id": "971e2bbf",
   "metadata": {},
   "outputs": [],
   "source": [
    "# Q12. If you had a bacon() feature in a spam module, what would you call it after importing spam?\n",
    "#ANSWER \n",
    "# spam.bacon()\n",
    "# OR \n",
    "# from spam import bacon\n"
   ]
  },
  {
   "cell_type": "code",
   "execution_count": 2,
   "id": "04a82821",
   "metadata": {},
   "outputs": [],
   "source": [
    "# Q13. What can you do to save a programme from crashing if it encounters an error?\n",
    "# ANSWER \n",
    "# By using try clasue, we can stop a code from crashing. \n",
    "# We will keep the potential crashing line of code inside try clause "
   ]
  },
  {
   "cell_type": "code",
   "execution_count": 3,
   "id": "72ff0d45",
   "metadata": {},
   "outputs": [],
   "source": [
    "# Q14. What is the purpose of the try clause? What is the purpose of the except clause?\n",
    "# ANSWER \n",
    "# Try cluase lets you test a block of code for errors\n",
    "# Except is used to catch and handle the exception's that are encountered in the try clause."
   ]
  }
 ],
 "metadata": {
  "kernelspec": {
   "display_name": "Python 3 (ipykernel)",
   "language": "python",
   "name": "python3"
  },
  "language_info": {
   "codemirror_mode": {
    "name": "ipython",
    "version": 3
   },
   "file_extension": ".py",
   "mimetype": "text/x-python",
   "name": "python",
   "nbconvert_exporter": "python",
   "pygments_lexer": "ipython3",
   "version": "3.7.11"
  }
 },
 "nbformat": 4,
 "nbformat_minor": 5
}
