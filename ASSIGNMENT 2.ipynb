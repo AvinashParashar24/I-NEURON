{
 "cells": [
  {
   "cell_type": "markdown",
   "id": "8eaf9933",
   "metadata": {},
   "source": [
    "# ASSIGNMENT 2"
   ]
  },
  {
   "cell_type": "markdown",
   "id": "40bb3165",
   "metadata": {},
   "source": [
    "QUESTION 1"
   ]
  },
  {
   "cell_type": "code",
   "execution_count": 6,
   "id": "0528e9df",
   "metadata": {},
   "outputs": [
    {
     "name": "stdout",
     "output_type": "stream",
     "text": [
      "False\n",
      "True\n",
      "True\n"
     ]
    }
   ],
   "source": [
    "# 1.What are the two values of the Boolean data type? How do you write them?\n",
    "\n",
    "#ANSWER \n",
    "# Two boolean values are True & False \n",
    "# WE write is to check certain condition, for example; I want to check if 20 id greater than 50 then i will write is using below code. \n",
    "print(20>50)\n",
    "print(20==20)\n",
    "print(20<50)\n",
    "\n",
    "# Using above relational expression such as >=, <= or ==, we can check particular condition and get the answer in boolean values"
   ]
  },
  {
   "cell_type": "markdown",
   "id": "1d2a1dde",
   "metadata": {},
   "source": [
    "QUESTION 2"
   ]
  },
  {
   "cell_type": "code",
   "execution_count": null,
   "id": "bcea6f5f",
   "metadata": {},
   "outputs": [],
   "source": [
    "# 2. What are the three different types of Boolean operators?\n",
    "\n",
    "# ANSWER. Three type of Boolean operators are: \n",
    "# And \n",
    "# Or \n",
    "# Not "
   ]
  },
  {
   "cell_type": "markdown",
   "id": "1d36d91e",
   "metadata": {},
   "source": [
    "QUESTION 3"
   ]
  },
  {
   "cell_type": "code",
   "execution_count": 9,
   "id": "6cc5def1",
   "metadata": {},
   "outputs": [
    {
     "name": "stdout",
     "output_type": "stream",
     "text": [
      "False\n",
      "True\n",
      "False\n",
      "False\n"
     ]
    }
   ],
   "source": [
    "# Make a list of each Boolean operator's truth tables (i.e. every possible combination of Boolean values for the operator and what it evaluate ).\n",
    "\n",
    "# ASNWER\n",
    "print(True and False)\n",
    "print(True and True)\n",
    "print(False and False)\n",
    "print(False and True)\n",
    "\n"
   ]
  },
  {
   "cell_type": "markdown",
   "id": "e844a73c",
   "metadata": {},
   "source": [
    "QUESTION 4"
   ]
  },
  {
   "cell_type": "code",
   "execution_count": 8,
   "id": "b6c4a3b6",
   "metadata": {},
   "outputs": [
    {
     "data": {
      "text/plain": [
       "False"
      ]
     },
     "execution_count": 8,
     "metadata": {},
     "output_type": "execute_result"
    }
   ],
   "source": [
    "# 4. What are the values of the following expressions?\n",
    "\n",
    "# (5 > 4) and (3 == 5) ----> False\n",
    "# not (5 > 4)----> False \n",
    "# (5 > 4) or (3 == 5) ----> True \n",
    "# not ((5 > 4) or (3 == 5))---> False \n",
    "# (True and True) and (True == False)--> False \n",
    "# (not False) or (not True)----> True\n"
   ]
  },
  {
   "cell_type": "markdown",
   "id": "37da6fdd",
   "metadata": {},
   "source": [
    "QUESTION 5"
   ]
  },
  {
   "cell_type": "code",
   "execution_count": null,
   "id": "a38884ad",
   "metadata": {},
   "outputs": [],
   "source": [
    "#5. What are the six comparison operators?\n",
    "\n",
    "# ANSWER:- 6 Comparison operators are:\n",
    "\n",
    "#  == (Equal to)\n",
    "#  != (Not equal to)\n",
    "#  < (Less than)\n",
    "#  > (Greater than)\n",
    "#  <= (Less than or equal to)\n",
    "#  >= (Greater than or equal to) \n"
   ]
  },
  {
   "cell_type": "markdown",
   "id": "203f881b",
   "metadata": {},
   "source": [
    "QUESTION 6"
   ]
  },
  {
   "cell_type": "code",
   "execution_count": null,
   "id": "443f4073",
   "metadata": {},
   "outputs": [],
   "source": [
    "# 6. How do you tell the difference between the equal to and assignment operators? Describe a condition and when you would use one.\n",
    "\n",
    "# ANSWER: Assignment operator is used for assigning a value to a variable while equal to operator are use to compare 2 number if they are equal or not. \n",
    "# Assignment operator---> (A = 5) In this case we are assigning a int value to variable A\n",
    "# Equal to Operator----> (5==10) In this case we are comparing if number 5 is equal to number 10 or not.\n"
   ]
  },
  {
   "cell_type": "markdown",
   "id": "325480c9",
   "metadata": {},
   "source": [
    "QUESTION 7"
   ]
  },
  {
   "cell_type": "code",
   "execution_count": 21,
   "id": "885fa4c1",
   "metadata": {},
   "outputs": [
    {
     "ename": "IndentationError",
     "evalue": "expected an indented block (1499582499.py, line 4)",
     "output_type": "error",
     "traceback": [
      "\u001b[0;36m  File \u001b[0;32m\"/tmp/ipykernel_22061/1499582499.py\"\u001b[0;36m, line \u001b[0;32m4\u001b[0m\n\u001b[0;31m    print('eggs')\u001b[0m\n\u001b[0m        ^\u001b[0m\n\u001b[0;31mIndentationError\u001b[0m\u001b[0;31m:\u001b[0m expected an indented block\n"
     ]
    }
   ],
   "source": [
    "# Identify the three blocks in this code:\n",
    "spam = 0\n",
    "if spam == 10:\n",
    "print('eggs')\n",
    "if spam > 5:\n",
    "print('bacon')\n",
    "else:\n",
    "print('ham')\n",
    "print('spam')\n",
    "print('spam')\n",
    "\n",
    "# ISSUE 1 ('''Indentation is wrong at 3 places''')\n",
    "#1. Wrong indentation after first if condition\n",
    "#2. Wrong indentation after second if condition\n",
    "#3. Wrong indentation after else condition\n",
    "\n",
    "\n",
    "# ISSUE 2 (We are printing spam twice which is not needed )\n",
    "# BELOW IS THE CORRECT CODE TO EXECUTE WITHOUT ANY ERROR "
   ]
  },
  {
   "cell_type": "code",
   "execution_count": 25,
   "id": "10b8b045",
   "metadata": {},
   "outputs": [
    {
     "name": "stdout",
     "output_type": "stream",
     "text": [
      "ham\n",
      "spam\n"
     ]
    }
   ],
   "source": [
    "spam = 0\n",
    "if spam == 10:\n",
    "    print('eggs')\n",
    "if spam > 5:\n",
    "    print('bacon')\n",
    "else:\n",
    "    print('ham')\n",
    "    print('spam')\n"
   ]
  },
  {
   "cell_type": "markdown",
   "id": "dae37cbb",
   "metadata": {},
   "source": [
    "QUESTION 8 "
   ]
  },
  {
   "cell_type": "code",
   "execution_count": 12,
   "id": "ace34b4a",
   "metadata": {},
   "outputs": [
    {
     "name": "stdout",
     "output_type": "stream",
     "text": [
      "Please press 1 for Hello or press 2 for Howdy\n",
      "1\n",
      "Hello\n"
     ]
    }
   ],
   "source": [
    "# Write code that prints Hello if 1 is stored in spam, prints Howdy if 2 is stored in spam, and prints Greetings! if anything else is stored in spam.\n",
    "\n",
    "print('Please press',1, 'for Hello or press', 2, 'for Howdy')\n",
    "Spam = int(input())\n",
    "\n",
    "if Spam==1:\n",
    "    print('Hello')\n",
    "elif Spam ==2:\n",
    "    print('Howdy')\n",
    "else:\n",
    "    print('Greetings')"
   ]
  },
  {
   "cell_type": "markdown",
   "id": "81e0a6a6",
   "metadata": {},
   "source": [
    "QUESTION 9 "
   ]
  },
  {
   "cell_type": "code",
   "execution_count": null,
   "id": "92096185",
   "metadata": {},
   "outputs": [],
   "source": [
    "# 9.If your programme is stuck in an endless loop, what keys you’ll press?\n",
    "\n",
    "# ANSWER Cntrl + C Keys \n",
    "# For Jupiter notebook, we can click on kernel and then click on interrupt kernel "
   ]
  },
  {
   "cell_type": "markdown",
   "id": "fd5c275f",
   "metadata": {},
   "source": [
    "QUESTION 10"
   ]
  },
  {
   "cell_type": "code",
   "execution_count": null,
   "id": "b6bc9c45",
   "metadata": {},
   "outputs": [],
   "source": [
    "# How can you tell the difference between break and continue?\n",
    "\n",
    "# ANSWER\n",
    "# The break statement stops execution of the entire loop but the continue stops only the current iteration of the loop. Continue doesn't stop the next iterations. "
   ]
  },
  {
   "cell_type": "markdown",
   "id": "6f90cc87",
   "metadata": {},
   "source": [
    "QUESTION 11"
   ]
  },
  {
   "cell_type": "code",
   "execution_count": 56,
   "id": "2bc6a514",
   "metadata": {},
   "outputs": [
    {
     "name": "stdout",
     "output_type": "stream",
     "text": [
      "0\n",
      "1\n",
      "2\n",
      "3\n",
      "4\n",
      "5\n",
      "6\n",
      "7\n",
      "8\n",
      "9\n"
     ]
    }
   ],
   "source": [
    "# 11. In a for loop, what is the difference between range(10), range(0, 10), and range(0, 10, 1)?\n",
    "\n",
    "# ANSWER \n",
    "# There is a difference in the functionality in the range specification however, the output will remain same in every case. \n",
    "# Below is the example of every output.\n",
    "\n",
    "# Here, we are not secifying any start & ending point in range\n",
    "for i in range(10):\n",
    "    print(i)"
   ]
  },
  {
   "cell_type": "code",
   "execution_count": 57,
   "id": "2499757b",
   "metadata": {},
   "outputs": [
    {
     "name": "stdout",
     "output_type": "stream",
     "text": [
      "0\n",
      "1\n",
      "2\n",
      "3\n",
      "4\n",
      "5\n",
      "6\n",
      "7\n",
      "8\n",
      "9\n"
     ]
    }
   ],
   "source": [
    "# Here,we are specifying the starting and ending point of range \n",
    "for i in range(0,10):\n",
    "    print(i)"
   ]
  },
  {
   "cell_type": "code",
   "execution_count": 58,
   "id": "e51a08f1",
   "metadata": {},
   "outputs": [
    {
     "name": "stdout",
     "output_type": "stream",
     "text": [
      "0\n",
      "1\n",
      "2\n",
      "3\n",
      "4\n",
      "5\n",
      "6\n",
      "7\n",
      "8\n",
      "9\n"
     ]
    }
   ],
   "source": [
    "# Here,we are specifying the starting and ending point of range along with step value. \n",
    "for i in range(0, 10,1):\n",
    "    print(i)"
   ]
  },
  {
   "cell_type": "markdown",
   "id": "5c5e94b1",
   "metadata": {},
   "source": [
    "QUESTION 12"
   ]
  },
  {
   "cell_type": "code",
   "execution_count": 68,
   "id": "29142c3c",
   "metadata": {},
   "outputs": [
    {
     "name": "stdout",
     "output_type": "stream",
     "text": [
      "USING FOR LOOP 1\n",
      "USING FOR LOOP 2\n",
      "USING FOR LOOP 3\n",
      "USING FOR LOOP 4\n",
      "USING FOR LOOP 5\n",
      "USING FOR LOOP 6\n",
      "USING FOR LOOP 7\n",
      "USING FOR LOOP 8\n",
      "USING FOR LOOP 9\n",
      "USING FOR LOOP 10\n",
      "USING WHILE LOOP 1\n",
      "USING WHILE LOOP 2\n",
      "USING WHILE LOOP 3\n",
      "USING WHILE LOOP 4\n",
      "USING WHILE LOOP 5\n",
      "USING WHILE LOOP 6\n",
      "USING WHILE LOOP 7\n",
      "USING WHILE LOOP 8\n",
      "USING WHILE LOOP 9\n",
      "USING WHILE LOOP 10\n"
     ]
    }
   ],
   "source": [
    "#Write a short program that prints the numbers 1 to 10 using a for loop. Then write an equivalent program that prints the numbers 1 to 10 using a while loop.\n",
    "\n",
    "#ANSWER\n",
    "# USING FOR LOOP\n",
    "for i in range (1,11):\n",
    "    print('USING FOR LOOP', i)\n",
    "\n",
    "# USING WHILE LOOP\n",
    "\n",
    "n=1\n",
    "\n",
    "while (n<11):\n",
    "    print('USING WHILE LOOP',n)\n",
    "    n = n+1"
   ]
  },
  {
   "cell_type": "markdown",
   "id": "c6dfbb4e",
   "metadata": {},
   "source": [
    "QUESTION 13"
   ]
  },
  {
   "cell_type": "code",
   "execution_count": null,
   "id": "6e25a9c3",
   "metadata": {},
   "outputs": [],
   "source": [
    "#13. If you had a function named bacon() inside a module named spam, how would you call it after importing spam?\n",
    "\n",
    "# ANSWER \n",
    "# from spam import bacon\n"
   ]
  }
 ],
 "metadata": {
  "kernelspec": {
   "display_name": "Python 3 (ipykernel)",
   "language": "python",
   "name": "python3"
  },
  "language_info": {
   "codemirror_mode": {
    "name": "ipython",
    "version": 3
   },
   "file_extension": ".py",
   "mimetype": "text/x-python",
   "name": "python",
   "nbconvert_exporter": "python",
   "pygments_lexer": "ipython3",
   "version": "3.7.11"
  }
 },
 "nbformat": 4,
 "nbformat_minor": 5
}
