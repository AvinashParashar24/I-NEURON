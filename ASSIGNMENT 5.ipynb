{
 "cells": [
  {
   "cell_type": "markdown",
   "id": "6da3b812",
   "metadata": {},
   "source": [
    "# ASSIGNMENT 5"
   ]
  },
  {
   "cell_type": "code",
   "execution_count": 6,
   "id": "79b17ce1",
   "metadata": {},
   "outputs": [
    {
     "name": "stdout",
     "output_type": "stream",
     "text": [
      "<class 'dict'>\n",
      "{}\n"
     ]
    }
   ],
   "source": [
    "# Q1. What does an empty dictionary's code look like?\n",
    "# ANSWER\n",
    "DICT = {}\n",
    "print(type(DICT))\n",
    "print(DICT)"
   ]
  },
  {
   "cell_type": "code",
   "execution_count": 11,
   "id": "3adaf2dc",
   "metadata": {},
   "outputs": [
    {
     "data": {
      "text/plain": [
       "42"
      ]
     },
     "execution_count": 11,
     "metadata": {},
     "output_type": "execute_result"
    }
   ],
   "source": [
    "# Q2. What is the value of a dictionary value with the key & 'foo' and the value 42?\n",
    "DICT = {'foo':42}\n",
    "DICT['foo']\n",
    "# ANSWER --> 42"
   ]
  },
  {
   "cell_type": "code",
   "execution_count": null,
   "id": "84af3ea7",
   "metadata": {},
   "outputs": [],
   "source": [
    "# Q3. What is the most significant distinction between a dictionary and a list?\n",
    "# ANSWER \n",
    "# List are enclosed in [] and dictonary are enclosed in {}\n",
    "# List are like array and does not contain key and value pair where as dictonary holds as a key and its value which is seperated by \":\"\""
   ]
  },
  {
   "cell_type": "code",
   "execution_count": 13,
   "id": "538eb164",
   "metadata": {},
   "outputs": [
    {
     "ename": "KeyError",
     "evalue": "'foo'",
     "output_type": "error",
     "traceback": [
      "\u001b[0;31m---------------------------------------------------------------------------\u001b[0m",
      "\u001b[0;31mKeyError\u001b[0m                                  Traceback (most recent call last)",
      "\u001b[0;32m/tmp/ipykernel_28990/2869008372.py\u001b[0m in \u001b[0;36m<module>\u001b[0;34m\u001b[0m\n\u001b[1;32m      1\u001b[0m \u001b[0;31m#Q4. What happens if you try to access spam['foo'] if spam is {'bar': 100}?\u001b[0m\u001b[0;34m\u001b[0m\u001b[0;34m\u001b[0m\u001b[0;34m\u001b[0m\u001b[0m\n\u001b[1;32m      2\u001b[0m \u001b[0mspam\u001b[0m \u001b[0;34m=\u001b[0m \u001b[0;34m{\u001b[0m\u001b[0;34m'bar'\u001b[0m\u001b[0;34m:\u001b[0m \u001b[0;36m100\u001b[0m\u001b[0;34m}\u001b[0m\u001b[0;34m\u001b[0m\u001b[0;34m\u001b[0m\u001b[0m\n\u001b[0;32m----> 3\u001b[0;31m \u001b[0mspam\u001b[0m\u001b[0;34m[\u001b[0m\u001b[0;34m'foo'\u001b[0m\u001b[0;34m]\u001b[0m\u001b[0;34m\u001b[0m\u001b[0;34m\u001b[0m\u001b[0m\n\u001b[0m\u001b[1;32m      4\u001b[0m \u001b[0;31m# ANSWER\u001b[0m\u001b[0;34m\u001b[0m\u001b[0;34m\u001b[0m\u001b[0;34m\u001b[0m\u001b[0m\n",
      "\u001b[0;31mKeyError\u001b[0m: 'foo'"
     ]
    }
   ],
   "source": [
    "#Q4. What happens if you try to access spam['foo'] if spam is {'bar': 100}?\n",
    "spam = {'bar': 100}\n",
    "spam['foo']\n",
    "# ANSWER --> It will error out with KeyError:'Foo' which means that above key does not exist in the dictonary\n"
   ]
  },
  {
   "cell_type": "code",
   "execution_count": 17,
   "id": "ac07098d",
   "metadata": {},
   "outputs": [
    {
     "data": {
      "text/plain": [
       "False"
      ]
     },
     "execution_count": 17,
     "metadata": {},
     "output_type": "execute_result"
    }
   ],
   "source": [
    "# Q5. If a dictionary is stored in spam, what is the difference between the expressions 'cat'; in spam and cat in spam.keys()?\n",
    "# ANSWER \n",
    "spam = {'cat': 100}\n",
    "'cat' in spam\n",
    "'cat' in spam.keys()\n",
    "\n",
    "# There is no difference. In both the expression, the goal is to find a key with the name 'cat'"
   ]
  },
  {
   "cell_type": "code",
   "execution_count": 18,
   "id": "1b8b9eaa",
   "metadata": {},
   "outputs": [
    {
     "data": {
      "text/plain": [
       "False"
      ]
     },
     "execution_count": 18,
     "metadata": {},
     "output_type": "execute_result"
    }
   ],
   "source": [
    "#Q6. If a dictionary is stored in spam, what is the difference between the expressions 'cat' in spam and 'cat' in spam.values()?\n",
    "\n",
    "spam = {'bar': 100}\n",
    "'cat' in spam\n",
    "'cat' in spam.values()\n",
    "\n",
    "\n",
    "# in expression 'cat' in spam, we are tring to find if cat is present in key of spam, but in expression 'cat' in spam.values(), we are trying to specifically find if there is any value with name cat "
   ]
  },
  {
   "cell_type": "code",
   "execution_count": 23,
   "id": "506f2ebe",
   "metadata": {},
   "outputs": [
    {
     "name": "stdout",
     "output_type": "stream",
     "text": [
      "{'color': 'black'}\n"
     ]
    }
   ],
   "source": [
    "# Q7. What is a shortcut for the following code?\n",
    "spam = {}\n",
    "\n",
    "if 'color' not in spam:\n",
    "    spam['color'] = 'black'\n",
    "print(spam)\n",
    "\n",
    "# SHORTCUT \n",
    "spam.setdefault('color','black')"
   ]
  },
  {
   "cell_type": "code",
   "execution_count": 58,
   "id": "70f79877",
   "metadata": {},
   "outputs": [
    {
     "name": "stdout",
     "output_type": "stream",
     "text": [
      "PRINT USING PRINT FUNCTION \n",
      " [{'Name': 'Avin', 'Age': '12', 'Residence': 'Jai'}, {'Name': 'Raj', 'Age': '20', 'Residence': 'Kol'}, {'Name': 'Sid', 'Age': '31', 'Residence': 'Mumb'}, {'Name': 'Megha', 'Age': '41', 'Residence': 'Del'}]\n",
      "PRINT USING PP PRINT\n",
      "\n",
      "[{'Age': '12', 'Name': 'Avin', 'Residence': 'Jai'},\n",
      " {'Age': '20', 'Name': 'Raj', 'Residence': 'Kol'},\n",
      " {'Age': '31', 'Name': 'Sid', 'Residence': 'Mumb'},\n",
      " {'Age': '41', 'Name': 'Megha', 'Residence': 'Del'}]\n"
     ]
    }
   ],
   "source": [
    "# Q8. How do you \"pretty print\" dictionary values using which module and function?\n",
    "# ANSWER \n",
    "# We can do it using pprint function which part of pprint module\n",
    "\n",
    "import requests\n",
    "from pprint import pprint\n",
    "\n",
    "DICT = [\n",
    "  {'Name': 'Avin', 'Age': '12', 'Residence': 'Jai'},\n",
    "  {'Name': 'Raj', 'Age': '20', 'Residence': 'Kol'},\n",
    "  {'Name': 'Sid', 'Age': '31', 'Residence': 'Mumb'},\n",
    "  {'Name': 'Megha', 'Age': '41', 'Residence': 'Del'}]\n",
    "\n",
    "\n",
    "print('PRINT USING PRINT FUNCTION \\n',DICT )\n",
    "\n",
    "print('PRINT USING PP PRINT\\n')\n",
    "pprint(DICT)\n"
   ]
  }
 ],
 "metadata": {
  "kernelspec": {
   "display_name": "Python 3 (ipykernel)",
   "language": "python",
   "name": "python3"
  },
  "language_info": {
   "codemirror_mode": {
    "name": "ipython",
    "version": 3
   },
   "file_extension": ".py",
   "mimetype": "text/x-python",
   "name": "python",
   "nbconvert_exporter": "python",
   "pygments_lexer": "ipython3",
   "version": "3.7.11"
  }
 },
 "nbformat": 4,
 "nbformat_minor": 5
}
