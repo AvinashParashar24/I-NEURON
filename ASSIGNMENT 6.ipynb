{
 "cells": [
  {
   "cell_type": "markdown",
   "id": "7d43142b",
   "metadata": {},
   "source": [
    "# ASSIGNMENT 6"
   ]
  },
  {
   "cell_type": "code",
   "execution_count": 14,
   "id": "ba9e36ca",
   "metadata": {},
   "outputs": [
    {
     "name": "stdout",
     "output_type": "stream",
     "text": [
      "Python Keywords are some predefined and reserved words in python that have special meanings. Keywords are used to define the syntax of the coding\n",
      "Total keyword in python are 35\n"
     ]
    },
    {
     "data": {
      "text/plain": [
       "['False',\n",
       " 'None',\n",
       " 'True',\n",
       " 'and',\n",
       " 'as',\n",
       " 'assert',\n",
       " 'async',\n",
       " 'await',\n",
       " 'break',\n",
       " 'class',\n",
       " 'continue',\n",
       " 'def',\n",
       " 'del',\n",
       " 'elif',\n",
       " 'else',\n",
       " 'except',\n",
       " 'finally',\n",
       " 'for',\n",
       " 'from',\n",
       " 'global',\n",
       " 'if',\n",
       " 'import',\n",
       " 'in',\n",
       " 'is',\n",
       " 'lambda',\n",
       " 'nonlocal',\n",
       " 'not',\n",
       " 'or',\n",
       " 'pass',\n",
       " 'raise',\n",
       " 'return',\n",
       " 'try',\n",
       " 'while',\n",
       " 'with',\n",
       " 'yield']"
      ]
     },
     "execution_count": 14,
     "metadata": {},
     "output_type": "execute_result"
    }
   ],
   "source": [
    "# Q.1. What are keywords in python? Using the keyword library, print all the python keywords.\n",
    "\n",
    "#ANSWER \n",
    "print('Python Keywords are some predefined and reserved words in python that have special meanings. Keywords are used to define the syntax of the coding') \n",
    "\n",
    "import keyword\n",
    "print('Total keyword in python are', len(keyword.kwlist))\n",
    "keyword.kwlist\n"
   ]
  },
  {
   "cell_type": "code",
   "execution_count": 15,
   "id": "87f4df07",
   "metadata": {},
   "outputs": [],
   "source": [
    "# Q.2. What are the rules to create variables in python?\n",
    "#ANSWER \n",
    "# The variable name should not be of among any keyword in python\n",
    "# The variable should not start with any number\n",
    "# The variable should start with a character or \"_\" "
   ]
  },
  {
   "cell_type": "code",
   "execution_count": null,
   "id": "e5ce2ec2",
   "metadata": {},
   "outputs": [],
   "source": [
    "# Q.3. What are the standards and conventions followed for the nomenclature of variables in python to improve code readability and maintainability?\n",
    "# ANSWER \n",
    "\n",
    "# Always write proper comments in every code block which describe the process happening in the code \n",
    "# Write few lines as possible \n",
    "# Use appropriate naming conventions.\n",
    "# Don’t use lengthy functions. Ideally, a single function should carry out a single task.\n",
    "# Don’t use a Single Identifier for multiple purposes\n",
    "# Try to formalize Exception Handling"
   ]
  },
  {
   "cell_type": "code",
   "execution_count": 24,
   "id": "a5e9b4fa",
   "metadata": {},
   "outputs": [
    {
     "ename": "SyntaxError",
     "evalue": "invalid syntax (746969659.py, line 5)",
     "output_type": "error",
     "traceback": [
      "\u001b[0;36m  File \u001b[0;32m\"/tmp/ipykernel_30203/746969659.py\"\u001b[0;36m, line \u001b[0;32m5\u001b[0m\n\u001b[0;31m    if = 1\u001b[0m\n\u001b[0m       ^\u001b[0m\n\u001b[0;31mSyntaxError\u001b[0m\u001b[0;31m:\u001b[0m invalid syntax\n"
     ]
    }
   ],
   "source": [
    "# Q.4. What will happen if a keyword is used aWhat is the operation of this special character ‘\\’?s a variable name?\n",
    "# ANSWER \n",
    "# It will throw an error depending on what type of keyword we are using such as; SyntaxError: invalid syntax & SyntaxError: can't assign to keyword, \n",
    "\n"
   ]
  },
  {
   "cell_type": "code",
   "execution_count": 25,
   "id": "b17acedb",
   "metadata": {},
   "outputs": [],
   "source": [
    "# Q.5. For what purpose def keyword is used?\n",
    "# ANSWER -> It is used to create a user defined function \n"
   ]
  },
  {
   "cell_type": "code",
   "execution_count": 26,
   "id": "d13dd063",
   "metadata": {},
   "outputs": [],
   "source": [
    "# Q.6. What is the operation of this special character ‘\\’?\n",
    "# ANSWER \n",
    "# It is called the \"escape\" character. It is used in representing certain whitespace characters: \"\\t\" is a tab, \"\\n\" is a newline, and \"\\r\" is a carriage return."
   ]
  },
  {
   "cell_type": "code",
   "execution_count": 32,
   "id": "8aa5b045",
   "metadata": {},
   "outputs": [
    {
     "name": "stdout",
     "output_type": "stream",
     "text": [
      "Homogeneous list -->  ['audi', 'ford', 'fiat', 'bentley']\n",
      "heterogeneous set -->  {1, 2, 3, 'Apple', 1.34, None}\n",
      "Homogeneous Tuple -->  (1, 2, 3, 4, 5)\n"
     ]
    }
   ],
   "source": [
    "# Q.7. Give an example of the following conditions:\n",
    "#(i) Homogeneous list\n",
    "#(ii) Heterogeneous set\n",
    "#(iii) Homogeneous tuple\n",
    "\n",
    "cars = ['audi', 'ford', 'fiat', 'bentley']\n",
    "print('Homogeneous list --> ', cars)\n",
    "\n",
    "SET_1 = {1,2,3,'Apple',1.34, None}\n",
    "print('heterogeneous set --> ', SET_1)\n",
    "\n",
    "TUP_1 = (1,2,3,4,5)\n",
    "print('Homogeneous Tuple --> ', TUP_1)\n"
   ]
  },
  {
   "cell_type": "code",
   "execution_count": 38,
   "id": "c062085d",
   "metadata": {},
   "outputs": [
    {
     "name": "stdout",
     "output_type": "stream",
     "text": [
      "LIST HAS BEEN ALTERED  [1, 2, 'A', 4, 5]\n",
      "Tuple does not support item assignment hence we cannot edit it\n"
     ]
    }
   ],
   "source": [
    "# Q.8. Explain the mutable and immutable data types with proper explanation & examples.\n",
    "\n",
    "# ANSWER \n",
    "# Mutable data types are the one which can be altered / changed and Immutable data types are the one which cannot be edited once we define them \n",
    "\n",
    "#EXAMPLE --> List are mutable and tuples are immutable \n",
    "\n",
    "L = [1,2,3,4,5]\n",
    "L[2] = 'A'\n",
    "\n",
    "print('LIST HAS BEEN ALTERED ', L)\n",
    "\n",
    "T = (1,2,3)\n",
    "try:\n",
    "    T[1]= 'A'\n",
    "except:\n",
    "    print(\"Tuple does not support item assignment hence we cannot edit it\")"
   ]
  },
  {
   "cell_type": "code",
   "execution_count": 67,
   "id": "263ef464",
   "metadata": {},
   "outputs": [
    {
     "name": "stdout",
     "output_type": "stream",
     "text": [
      "    *\n",
      "   ***\n",
      "  *****\n",
      " *******\n",
      "*********\n"
     ]
    }
   ],
   "source": [
    "# Q.9. Write a code to create the given structure using only for loop.\n",
    "#    *\n",
    "#   ***\n",
    "#  *****\n",
    "# *******\n",
    "#*********\n",
    "\n",
    "\n",
    "n = 5\n",
    "for i in range(1, n+1):\n",
    "    for j in range(n - i):\n",
    "        print(' ', end='')\n",
    "        \n",
    "    for k in range(2 * i - 1):\n",
    "        print('*', end='')\n",
    "    print()"
   ]
  },
  {
   "cell_type": "code",
   "execution_count": 68,
   "id": "0f0a340f",
   "metadata": {},
   "outputs": [
    {
     "name": "stdout",
     "output_type": "stream",
     "text": [
      "Enter the number of rows: 10\n",
      " | | | | | | | | | |\n",
      "  | | | | | | | | |\n",
      "   | | | | | | | |\n",
      "    | | | | | | |\n",
      "     | | | | | |\n",
      "      | | | | |\n",
      "       | | | |\n",
      "        | | |\n",
      "         | |\n",
      "          |\n"
     ]
    }
   ],
   "source": [
    "# Q.10. Write a code to create the given structure using while loop.\n",
    "#  |||||||||\n",
    "#   |||||||\n",
    "#   |||||\n",
    "#    |||\n",
    "#    |\n",
    "\n",
    "\n",
    "\n",
    "\n",
    "def pattern(n):\n",
    "   i = n\n",
    "   while i>=1:\n",
    "      # printing stars\n",
    "      print(\" \"*(n-i) + \" |\" * i)\n",
    "      i-=1 \n",
    " \n",
    "# take inputs\n",
    "n = int(input('Enter the number of rows: '))\n",
    "\n",
    "# calling function\n",
    "pattern(n)\n"
   ]
  },
  {
   "cell_type": "code",
   "execution_count": null,
   "id": "add8fbdb",
   "metadata": {},
   "outputs": [],
   "source": []
  },
  {
   "cell_type": "code",
   "execution_count": null,
   "id": "96d8a860",
   "metadata": {},
   "outputs": [],
   "source": []
  },
  {
   "cell_type": "code",
   "execution_count": null,
   "id": "8420b081",
   "metadata": {},
   "outputs": [],
   "source": []
  },
  {
   "cell_type": "code",
   "execution_count": null,
   "id": "6c9605ca",
   "metadata": {},
   "outputs": [],
   "source": []
  },
  {
   "cell_type": "code",
   "execution_count": null,
   "id": "4f722e03",
   "metadata": {},
   "outputs": [],
   "source": []
  },
  {
   "cell_type": "code",
   "execution_count": null,
   "id": "030ab587",
   "metadata": {},
   "outputs": [],
   "source": []
  },
  {
   "cell_type": "code",
   "execution_count": null,
   "id": "36b01a85",
   "metadata": {},
   "outputs": [],
   "source": []
  },
  {
   "cell_type": "code",
   "execution_count": null,
   "id": "e111a2b4",
   "metadata": {},
   "outputs": [],
   "source": []
  }
 ],
 "metadata": {
  "kernelspec": {
   "display_name": "Python 3 (ipykernel)",
   "language": "python",
   "name": "python3"
  },
  "language_info": {
   "codemirror_mode": {
    "name": "ipython",
    "version": 3
   },
   "file_extension": ".py",
   "mimetype": "text/x-python",
   "name": "python",
   "nbconvert_exporter": "python",
   "pygments_lexer": "ipython3",
   "version": "3.7.11"
  }
 },
 "nbformat": 4,
 "nbformat_minor": 5
}
