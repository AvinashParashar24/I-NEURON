{
 "cells": [
  {
   "cell_type": "markdown",
   "id": "e4924e35",
   "metadata": {},
   "source": [
    "QUESTION 1 "
   ]
  },
  {
   "cell_type": "code",
   "execution_count": null,
   "id": "83e055e3",
   "metadata": {},
   "outputs": [],
   "source": [
    "# 1. In the below elements which of them are values or an expression? eg:- values can be integer or string and expressions will be mathematical operators.\n",
    "* \n",
    "'hello'\n",
    "-87.8\n",
    "- \n",
    "/ \n",
    "+\n",
    "6 \n",
    "\n",
    "\n",
    "\n",
    "# ANSWER \n",
    "# * is an expression \n",
    "#'Hello' is a value \n",
    "#-87.8 is a value \n",
    "# - is an expression\n",
    "#/ is an expression\n",
    "# + is an expression\n",
    "# 6 is a value "
   ]
  },
  {
   "cell_type": "markdown",
   "id": "c33d0a74",
   "metadata": {},
   "source": [
    "QUESTION 2"
   ]
  },
  {
   "cell_type": "code",
   "execution_count": null,
   "id": "5cecf717",
   "metadata": {},
   "outputs": [],
   "source": [
    "# 2. What is the difference between string and variable?\n",
    "\n",
    "# ANSWER \n",
    "# Variable as an identifier or a name of an object to store a value in a memory location and to manipulate it if needed. For example; (A = 5), In this case A is a vraible in which value 5 is stored. \n",
    "# String is a data type assinged to a non numeric data such as text or symbol etc. For example; (A = 'How are you doing'), In this case A is a variable which is of string type."
   ]
  },
  {
   "cell_type": "markdown",
   "id": "fc58b399",
   "metadata": {},
   "source": [
    "QUESTION 3"
   ]
  },
  {
   "cell_type": "code",
   "execution_count": null,
   "id": "f0c83672",
   "metadata": {},
   "outputs": [],
   "source": [
    "# Describe three different data types.\n",
    "\n",
    "# ANSWER\n",
    "#1. Stirng --> (Its a data type assigned to a non numeric data such as text or symbol)\n",
    "#2. Float --> (Its a data type assigned to a numeric data which contain decimal value for example; 2.5, 7.8)\n",
    "#3. Int --> (Its a data type assigned to a numeric data which contain whole number such as 2 or 3)"
   ]
  },
  {
   "cell_type": "markdown",
   "id": "11793f7f",
   "metadata": {},
   "source": [
    "QUESTION 4"
   ]
  },
  {
   "cell_type": "code",
   "execution_count": null,
   "id": "7c6858ad",
   "metadata": {},
   "outputs": [],
   "source": [
    "# 4. What is an expression made up of? What do all expressions do?\n",
    "\n",
    "# ANSWER \n",
    "('''An expression is a combination of  operator and a operand (value or variable). This combination gives an output for example; (10+5 = 15) In this example, + is the operator and 10 & 15 are values\n",
    "and together this combination provides an output''')\n",
    "\n",
    "# TYPES OF EXPRESSIONS:\n",
    "# Constant Expressions- Expression which have constant values only.\n",
    "# Arithmetic Expressions- An arithmetic expression is a combination of numeric values, operators, and sometimes parenthesis. \n",
    "# Integral Expressions- An arithmetic expression is a combination of numeric values, operators, and sometimes parenthesis. \n",
    "# Floating Expressions- These are the kind of expressions which produce floating point numbers as result after all computations and type conversions.\n",
    "# Relational Expressions- In this expression, 2 or more values are compared against each other using relational expresion for example; (>=, ==, <=). \n",
    "# Logical Expressions- A logical expression performs the logical computation, and the overall expression results in either True or False (boolean result).\n",
    "\n"
   ]
  },
  {
   "cell_type": "markdown",
   "id": "efbb4800",
   "metadata": {},
   "source": [
    "QUESTION 5"
   ]
  },
  {
   "cell_type": "code",
   "execution_count": null,
   "id": "74f4fa46",
   "metadata": {},
   "outputs": [],
   "source": [
    "# 5. This assignment statements, like spam = 10. What is the difference between an expression and a statement?\n",
    "\n",
    "#ANSWER\n",
    "spam = 10\n",
    "# This is a statement where we are assigning value of 10 in a variable called spam. \n",
    "# Statement is used to declare values while expression are used to perform certain operations or calculations on values(operands)."
   ]
  },
  {
   "cell_type": "markdown",
   "id": "199fcdb3",
   "metadata": {},
   "source": [
    "QUESTION 6"
   ]
  },
  {
   "cell_type": "code",
   "execution_count": 6,
   "id": "c60974d9",
   "metadata": {},
   "outputs": [
    {
     "data": {
      "text/plain": [
       "23"
      ]
     },
     "execution_count": 6,
     "metadata": {},
     "output_type": "execute_result"
    }
   ],
   "source": [
    "# After running the following code, what does the variable bacon contain?\n",
    "bacon = 22\n",
    "bacon + 1\n",
    "\n",
    "# After running the code, the final output will be 23 but the value of bacon will be still 22 because we are not storing (bacon+1) in a bacon variable. We are just doing this calculation but not storing it somewhere."
   ]
  },
  {
   "cell_type": "markdown",
   "id": "bd417952",
   "metadata": {},
   "source": [
    "QUESTION 7"
   ]
  },
  {
   "cell_type": "code",
   "execution_count": 32,
   "id": "f2e704dc",
   "metadata": {},
   "outputs": [
    {
     "name": "stdout",
     "output_type": "stream",
     "text": [
      "the value of first term is  spamspamspam\n",
      "the value of first term is  spamspamspam\n"
     ]
    }
   ],
   "source": [
    "# What should the values of the following two terms be?\n",
    "A = 'spam' + 'spamspam'\n",
    "print(\"the value of first term is \", A)\n",
    "\n",
    "\n",
    "B = 'spam' * 3\n",
    "print(\"the value of first term is \", B)\n",
    "\n"
   ]
  },
  {
   "cell_type": "markdown",
   "id": "1f528454",
   "metadata": {},
   "source": [
    "QUESTION 8"
   ]
  },
  {
   "cell_type": "code",
   "execution_count": null,
   "id": "93dc87e9",
   "metadata": {},
   "outputs": [],
   "source": [
    "# 8. Why is eggs a valid variable name while 100 is invalid?\n",
    "\n",
    "#ANSWER \n",
    "# Eggs can be a valid variable because it is string and string can be used for assigning the variable name but numbers cannot be used for assigning varaible name. \n",
    "# A variable can be a alpha-anumeric but cannot star with numbers. A vairbale can start with _ or a alphabet."
   ]
  },
  {
   "cell_type": "markdown",
   "id": "3dc1d148",
   "metadata": {},
   "source": [
    "QUESTION 9"
   ]
  },
  {
   "cell_type": "code",
   "execution_count": 22,
   "id": "c5e826a2",
   "metadata": {},
   "outputs": [
    {
     "name": "stdout",
     "output_type": "stream",
     "text": [
      "<class 'int'>\n",
      "<class 'str'>\n",
      "<class 'float'>\n"
     ]
    }
   ],
   "source": [
    "# What three functions can be used to get the integer, floating-point number, or string version of a value?\n",
    "\n",
    "#ANSWER \n",
    "\n",
    "A  = 10\n",
    "\n",
    "# To convert A to integer, we will use int \n",
    "A = int(A)\n",
    "print(type(A))\n",
    "\n",
    "# To convert A to string we will use str \n",
    "\n",
    "B = str(A)\n",
    "print(type(B))\n",
    "\n",
    "\n",
    "# To convert A to float we will use float \n",
    "\n",
    "C = float(A)\n",
    "print(type(C))\n",
    "\n",
    "# This process is called type casting where can type cast any variable using str, int and float function"
   ]
  },
  {
   "cell_type": "markdown",
   "id": "3dda097f",
   "metadata": {},
   "source": [
    "QUESTION 10"
   ]
  },
  {
   "cell_type": "code",
   "execution_count": null,
   "id": "b3b80384",
   "metadata": {},
   "outputs": [],
   "source": [
    "# 10. Why does this expression cause an error? How can you fix it?\n",
    "'I have eaten ' + 99 + ' burritos.'\n",
    "\n",
    "# ERROR - TypeError: can only concatenate str (not \"int\") to str\n",
    "# As per above error, we can only concatenate string object with another string object. Since, 99 is int object, it is not allowing us to concatenate it with sting. \n",
    "# In order to run the above statement, we have to typecast 99 from int to str using str( function)\n",
    "\n"
   ]
  },
  {
   "cell_type": "code",
   "execution_count": 31,
   "id": "32c456ff",
   "metadata": {},
   "outputs": [
    {
     "data": {
      "text/plain": [
       "'I have eaten 99 burritos.'"
      ]
     },
     "execution_count": 31,
     "metadata": {},
     "output_type": "execute_result"
    }
   ],
   "source": [
    "'I have eaten ' + str(99) + ' burritos.'\n",
    "\n"
   ]
  }
 ],
 "metadata": {
  "kernelspec": {
   "display_name": "Python 3 (ipykernel)",
   "language": "python",
   "name": "python3"
  },
  "language_info": {
   "codemirror_mode": {
    "name": "ipython",
    "version": 3
   },
   "file_extension": ".py",
   "mimetype": "text/x-python",
   "name": "python",
   "nbconvert_exporter": "python",
   "pygments_lexer": "ipython3",
   "version": "3.7.11"
  }
 },
 "nbformat": 4,
 "nbformat_minor": 5
}
